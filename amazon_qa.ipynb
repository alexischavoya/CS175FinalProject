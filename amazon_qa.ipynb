{
 "cells": [
  {
   "cell_type": "markdown",
   "metadata": {
    "id": "MiEjxfQpYEjq"
   },
   "source": [
    "# ChatBot References\n",
    "\n",
    "Professor Smyth's website discussing projects\n",
    "\n",
    "https://www.ics.uci.edu/~smyth/courses/cs175/project_reading.html\n",
    "\n",
    "Chatbot resources on website\n",
    "\n",
    "https://pytorch.org/tutorials/beginner/chatbot_tutorial.html\n",
    "\n",
    "https://web.stanford.edu/~jurafsky/slp3/26.pdf\n",
    "\n",
    "https://www.microsoft.com/en-us/research/wp-content/uploads/2016/12/CortanaLUDialog-FromSLTproceedings.pdf\n",
    "\n",
    "Dataset for tutorial\n",
    "\n",
    "https://www.cs.cornell.edu/~cristian/Cornell_Movie-Dialogs_Corpus.html"
   ]
  },
  {
   "cell_type": "markdown",
   "metadata": {
    "id": "k3E-Z8VJYEjr"
   },
   "source": [
    "# Start of Tutorial"
   ]
  },
  {
   "cell_type": "markdown",
   "metadata": {
    "id": "59CPeRubYEjs"
   },
   "source": [
    "### Import necessary libraries"
   ]
  },
  {
   "cell_type": "code",
   "execution_count": 2,
   "metadata": {
    "id": "xT4D1MqlYEjs"
   },
   "outputs": [],
   "source": [
    "from __future__ import absolute_import\n",
    "from __future__ import division\n",
    "from __future__ import print_function\n",
    "from __future__ import unicode_literals\n",
    "\n",
    "import torch\n",
    "from torch.jit import script, trace\n",
    "import torch.nn as nn\n",
    "from torch import optim\n",
    "import torch.nn.functional as F\n",
    "import csv\n",
    "import random\n",
    "import re\n",
    "import os\n",
    "import unicodedata\n",
    "import codecs\n",
    "from io import open\n",
    "import itertools\n",
    "import math\n",
    "\n",
    "\n",
    "USE_CUDA = torch.cuda.is_available()\n",
    "device = torch.device(\"cuda\" if USE_CUDA else \"cpu\")\n",
    "\n",
    "# added for more consistent work\n",
    "random.seed(0)"
   ]
  },
  {
   "cell_type": "markdown",
   "metadata": {
    "id": "t913q7QzYEjs"
   },
   "source": [
    "### Preprocess Data"
   ]
  },
  {
   "cell_type": "markdown",
   "metadata": {
    "id": "xmsmXJnhYEjt"
   },
   "source": [
    "Looking at some files in the data to see how they are structured ..."
   ]
  },
  {
   "cell_type": "code",
   "execution_count": 5,
   "metadata": {
    "colab": {
     "base_uri": "https://localhost:8080/"
    },
    "id": "ox78YX5JZ8c9",
    "outputId": "1c38f48b-3d4d-4fd5-9a8e-bf3e1ca03ba6"
   },
   "outputs": [
    {
     "name": "stdout",
     "output_type": "stream",
     "text": [
      "Mounted at /content/drive\n"
     ]
    }
   ],
   "source": [
    "from google.colab import drive\n",
    "drive.mount('/content/drive')"
   ]
  },
  {
   "cell_type": "code",
   "execution_count": 7,
   "metadata": {
    "colab": {
     "base_uri": "https://localhost:8080/"
    },
    "id": "v5-mJu-xYEjt",
    "outputId": "81768d01-8fa6-4141-c1ac-64f39f3076f4"
   },
   "outputs": [
    {
     "name": "stdout",
     "output_type": "stream",
     "text": [
      "b'{\\'questionType\\': \\'yes/no\\', \\'asin\\': \\'B00000K4MC\\', \\'answerTime\\': \\'Nov 4, 2014\\', \\'unixTime\\': 1415088000, \\'question\\': \\'Will it work with Windows 8?\\', \\'answerType\\': \\'Y\\', \\'answer\\': \"You should look here: http://steamcommunity.com/sharedfiles/filedetails/?id=282196403 After the game was rereleased on Steam, a Windows 8 user wrote a Steam guide on how to fix it to work on Windows 8. Note that this is done for the Steam edition. It\\'s almost the same as the disc version, but instead of being under Steam&gt;Steamapps&gt;common it would be under its own little folder in Program Files, or under a Microprose folder.\"}\\n'\n",
      "b\"{'questionType': 'yes/no', 'asin': 'B00000K4MC', 'answerTime': 'Nov 29, 2014', 'unixTime': 1417248000, 'question': 'Will it work on Windows 7 ?', 'answerType': 'Y', 'answer': 'Yes'}\\n\"\n",
      "b\"{'questionType': 'yes/no', 'asin': 'B00000K4MC', 'answerTime': 'Aug 16, 2014', 'unixTime': 1408172400, 'question': 'Is there a digital download of this game?', 'answerType': '?', 'answer': 'You can buy rollercoaster tycoon Deluxe which includes RollerCoaster Tycoon and its two expansions: Corkscrew Follies and Loopy Landscapes for 6 bucks as a digital download off of Steam.'}\\n\"\n",
      "b'{\\'questionType\\': \\'yes/no\\', \\'asin\\': \\'B00000K4MC\\', \\'answerTime\\': \\'Mar 5, 2015\\', \\'unixTime\\': 1425542400, \\'question\\': \\'will this work on a mac\\', \\'answerType\\': \\'?\\', \\'answer\\': \"Sorry to tell you Terresa it won\\'t play\"}\\n'\n",
      "b\"{'questionType': 'yes/no', 'asin': 'B00000K4MC', 'answerTime': 'Dec 24, 2014', 'unixTime': 1419408000, 'question': 'I have a new computer with the latest greatest everything...will this game still play on it?', 'answerType': 'Y', 'answer': 'this game plays on my lap top just fine ...if ur system is beyond great as u say ...then it should play........merry christmas'}\\n\"\n",
      "b\"{'questionType': 'yes/no', 'asin': 'B00000K4MC', 'answerTime': 'Jul 31, 2014', 'unixTime': 1406790000, 'question': 'Will it work with MacBook ?', 'answerType': 'N', 'answer': 'No, RCT is an .exe game that only runs on Windows.'}\\n\"\n",
      "b\"{'questionType': 'yes/no', 'asin': 'B00000K4MC', 'answerTime': 'May 25, 2014', 'unixTime': 1401001200, 'question': 'will this game work with windows vista?', 'answerType': 'Y', 'answer': 'Yes!'}\\n\"\n",
      "b\"{'questionType': 'yes/no', 'asin': 'B00000K4MC', 'answerTime': 'Jun 7, 2014', 'unixTime': 1402124400, 'question': 'Will this game work on a windows 7 laptop?', 'answerType': 'Y', 'answer': 'yes, I have a laptop w/ w7 and it works'}\\n\"\n",
      "b'{\\'questionType\\': \\'yes/no\\', \\'asin\\': \\'B00000K4MC\\', \\'answerTime\\': \\'Nov 4, 2014\\', \\'unixTime\\': 1415088000, \\'question\\': \\'Will it work with Windows 8?\\', \\'answerType\\': \\'Y\\', \\'answer\\': \"You should look here: http://steamcommunity.com/sharedfiles/filedetails/?id=282196403 After the game was rereleased on Steam, a Windows 8 user wrote a Steam guide on how to fix it to work on Windows 8. Note that this is done for the Steam edition. It\\'s almost the same as the disc version, but instead of being under Steam&gt;Steamapps&gt;common it would be under its own little folder in Program Files, or under a Microprose folder.\"}\\n'\n",
      "b\"{'questionType': 'yes/no', 'asin': 'B00000K4MC', 'answerTime': 'Nov 29, 2014', 'unixTime': 1417248000, 'question': 'Will it work on Windows 7 ?', 'answerType': 'Y', 'answer': 'Yes'}\\n\"\n"
     ]
    }
   ],
   "source": [
    "corpus_name = \"/content/drive/MyDrive/CS175_Datasets\"\n",
    "corpus = os.path.join(\"data\", corpus_name)\n",
    "\n",
    "def printLines(file, n=10):\n",
    "    with open(file, 'rb') as datafile:\n",
    "        lines = datafile.readlines()\n",
    "    for line in lines[:n]:\n",
    "        print(line)\n",
    "\n",
    "printLines(os.path.join(corpus, \"qa_Video_Games.json\"))"
   ]
  },
  {
   "cell_type": "markdown",
   "metadata": {
    "id": "qTNZZqZ_YEju"
   },
   "source": [
    "Scan through data files and reformat them to be (sentence, response) pairs separated by a tab eventually. First we create helper functions to help clean up the data a bit and make it more readable ..."
   ]
  },
  {
   "cell_type": "code",
   "execution_count": 18,
   "metadata": {
    "id": "fSAEqL2-YEju"
   },
   "outputs": [],
   "source": [
    "import json\n",
    "# # Splits each line of the file into a dictionary of fields\n",
    "# def loadLines(fileName, fields):\n",
    "#     lines = {}\n",
    "#     with open(fileName, 'r', encoding='iso-8859-1') as f:\n",
    "#         for line in f:\n",
    "#             values = line.split(\" +++$+++ \")\n",
    "#             # Extract fields\n",
    "#             lineObj = {}\n",
    "#             for i, field in enumerate(fields):\n",
    "#                 lineObj[field] = values[i]\n",
    "#             lines[lineObj['lineID']] = lineObj\n",
    "#     return lines\n",
    "\n",
    "\n",
    "# # Groups fields of lines from `loadLines` into conversations based on *movie_conversations.txt*\n",
    "# def loadConversations(fileName, lines, fields):\n",
    "#     conversations = []\n",
    "#     with open(fileName, 'r', encoding='iso-8859-1') as f:\n",
    "#         for line in f:\n",
    "#             values = line.split(\" +++$+++ \")\n",
    "#             # Extract fields\n",
    "#             convObj = {}\n",
    "#             for i, field in enumerate(fields):\n",
    "#                 convObj[field] = values[i]\n",
    "#             # Convert string to list (convObj[\"utteranceIDs\"] == \"['L598485', 'L598486', ...]\")\n",
    "#             utterance_id_pattern = re.compile('L[0-9]+')\n",
    "#             lineIds = utterance_id_pattern.findall(convObj[\"utteranceIDs\"])\n",
    "#             # Reassemble lines\n",
    "#             convObj[\"lines\"] = []\n",
    "#             for lineId in lineIds:\n",
    "#                 convObj[\"lines\"].append(lines[lineId])\n",
    "#             conversations.append(convObj)\n",
    "#     return conversations\n",
    "\n",
    "\n",
    "# # Extracts pairs of sentences from conversations\n",
    "# def extractSentencePairs(conversations):\n",
    "#     qa_pairs = []\n",
    "#     for conversation in conversations:\n",
    "#         # Iterate over all the lines of the conversation\n",
    "#         for i in range(len(conversation[\"lines\"]) - 1):  # We ignore the last line (no answer for it)\n",
    "#             inputLine = conversation[\"lines\"][i][\"text\"].strip()\n",
    "#             targetLine = conversation[\"lines\"][i+1][\"text\"].strip()\n",
    "#             # Filter wrong samples (if one of the lists is empty)\n",
    "#             if inputLine and targetLine:\n",
    "#                 qa_pairs.append([inputLine, targetLine])\n",
    "#     return qa_pairs\n",
    "\n",
    "\n",
    "def parse(file):\n",
    "    for l in file:\n",
    "        yield eval(l)\n",
    "\n",
    "def loadConversations(fileName):\n",
    "    conversations = []\n",
    "    with open(fileName, 'r', encoding='iso-8859-1') as f:\n",
    "    for conversation in parse(f):\n",
    "        conversations.append([conversation[\"question\"], conversation[\"answer\"]])\n",
    "    return conversations\n",
    "\n",
    "\n",
    "\n",
    "\n",
    "def extractSentencePairs(conversations):\n",
    "    return conversations"
   ]
  },
  {
   "cell_type": "markdown",
   "metadata": {
    "id": "MIsDOYQeYEju"
   },
   "source": [
    "Next we will be using the functions above we now parse the data into a form that is useful to us and see what a few lines from the data look like ..."
   ]
  },
  {
   "cell_type": "code",
   "execution_count": 19,
   "metadata": {
    "colab": {
     "base_uri": "https://localhost:8080/"
    },
    "id": "31UrcyP_YEjv",
    "outputId": "c19352f5-7022-471c-8b62-f3e92292435e"
   },
   "outputs": [
    {
     "name": "stdout",
     "output_type": "stream",
     "text": [
      "\n",
      "Processing corpus...\n",
      "\n",
      "Loading conversations...\n",
      "\n",
      "Writing newly formatted file...\n",
      "\n",
      "Sample lines from file:\n",
      "b\"Will it work with Windows 8?\\tYou should look here: http://steamcommunity.com/sharedfiles/filedetails/?id=282196403 After the game was rereleased on Steam, a Windows 8 user wrote a Steam guide on how to fix it to work on Windows 8. Note that this is done for the Steam edition. It's almost the same as the disc version, but instead of being under Steam&gt;Steamapps&gt;common it would be under its own little folder in Program Files, or under a Microprose folder.\\n\"\n",
      "b'Will it work on Windows 7 ?\\tYes\\n'\n",
      "b'Is there a digital download of this game?\\tYou can buy rollercoaster tycoon Deluxe which includes RollerCoaster Tycoon and its two expansions: Corkscrew Follies and Loopy Landscapes for 6 bucks as a digital download off of Steam.\\n'\n",
      "b\"will this work on a mac\\tSorry to tell you Terresa it won't play\\n\"\n",
      "b'I have a new computer with the latest greatest everything...will this game still play on it?\\tthis game plays on my lap top just fine ...if ur system is beyond great as u say ...then it should play........merry christmas\\n'\n",
      "b'Will it work with MacBook ?\\tNo, RCT is an .exe game that only runs on Windows.\\n'\n",
      "b'will this game work with windows vista?\\tYes!\\n'\n",
      "b'Will this game work on a windows 7 laptop?\\tyes, I have a laptop w/ w7 and it works\\n'\n",
      "b\"Will it work with Windows 8?\\tYou should look here: http://steamcommunity.com/sharedfiles/filedetails/?id=282196403 After the game was rereleased on Steam, a Windows 8 user wrote a Steam guide on how to fix it to work on Windows 8. Note that this is done for the Steam edition. It's almost the same as the disc version, but instead of being under Steam&gt;Steamapps&gt;common it would be under its own little folder in Program Files, or under a Microprose folder.\\n\"\n",
      "b'Will it work on Windows 7 ?\\tYes\\n'\n"
     ]
    }
   ],
   "source": [
    "# Define path to new file\n",
    "datafile = os.path.join(corpus, \"formatted_movie_lines.txt\")\n",
    "\n",
    "delimiter = '\\t'\n",
    "# Unescape the delimiter\n",
    "delimiter = str(codecs.decode(delimiter, \"unicode_escape\"))\n",
    "\n",
    "# Initialize lines dict, conversations list, and field ids\n",
    "lines = {}\n",
    "conversations = []\n",
    "MOVIE_LINES_FIELDS = [\"lineID\", \"characterID\", \"movieID\", \"character\", \"text\"]\n",
    "MOVIE_CONVERSATIONS_FIELDS = [\"character1ID\", \"character2ID\", \"movieID\", \"utteranceIDs\"]\n",
    "\n",
    "# Load lines and process conversations\n",
    "print(\"\\nProcessing corpus...\")\n",
    "# lines = loadLines(os.path.join(corpus, \"movie_lines.txt\"), MOVIE_LINES_FIELDS)\n",
    "print(\"\\nLoading conversations...\")\n",
    "conversations = loadConversations(os.path.join(corpus, \"qa_Video_Games.json\"))\n",
    "\n",
    "# Write new csv file\n",
    "print(\"\\nWriting newly formatted file...\")\n",
    "with open(datafile, 'w', encoding='utf-8') as outputfile:\n",
    "    writer = csv.writer(outputfile, delimiter=delimiter, lineterminator='\\n')\n",
    "    for pair in extractSentencePairs(conversations):\n",
    "        writer.writerow(pair)\n",
    "\n",
    "# Print a sample of lines\n",
    "print(\"\\nSample lines from file:\")\n",
    "printLines(datafile)"
   ]
  },
  {
   "cell_type": "markdown",
   "metadata": {
    "id": "hjvBMQiXYEjv"
   },
   "source": [
    "We want to create a vocabulary of words that we see. We represent these words numerically using the index of their first appearance in the history of all added words to the set of vocuabulary. See `addWord()` for specifics."
   ]
  },
  {
   "cell_type": "code",
   "execution_count": 20,
   "metadata": {
    "id": "VKcxi09mYEjv"
   },
   "outputs": [],
   "source": [
    "# Default word tokens\n",
    "PAD_token = 0  # Used for padding short sentences\n",
    "SOS_token = 1  # Start-of-sentence token\n",
    "EOS_token = 2  # End-of-sentence token\n",
    "\n",
    "class Voc:\n",
    "    def __init__(self, name):\n",
    "        self.name = name\n",
    "        self.trimmed = False\n",
    "        self.word2index = {}\n",
    "        self.word2count = {}\n",
    "        self.index2word = {PAD_token: \"PAD\", SOS_token: \"SOS\", EOS_token: \"EOS\"}\n",
    "        self.num_words = 3  # Count SOS, EOS, PAD\n",
    "\n",
    "    def addSentence(self, sentence):\n",
    "        for word in sentence.split(' '):\n",
    "            self.addWord(word)\n",
    "\n",
    "    def addWord(self, word):\n",
    "        if word not in self.word2index:\n",
    "            self.word2index[word] = self.num_words\n",
    "            self.word2count[word] = 1\n",
    "            self.index2word[self.num_words] = word\n",
    "            self.num_words += 1\n",
    "        else:\n",
    "            self.word2count[word] += 1\n",
    "\n",
    "    # Remove words below a certain count threshold\n",
    "    def trim(self, min_count):\n",
    "        if self.trimmed:\n",
    "            return\n",
    "        self.trimmed = True\n",
    "\n",
    "        keep_words = []\n",
    "\n",
    "        for k, v in self.word2count.items():\n",
    "            if v >= min_count:\n",
    "                keep_words.append(k)\n",
    "\n",
    "        print('keep_words {} / {} = {:.4f}'.format(\n",
    "            len(keep_words), len(self.word2index), len(keep_words) / len(self.word2index)\n",
    "        ))\n",
    "\n",
    "        # Reinitialize dictionaries\n",
    "        self.word2index = {}\n",
    "        self.word2count = {}\n",
    "        self.index2word = {PAD_token: \"PAD\", SOS_token: \"SOS\", EOS_token: \"EOS\"}\n",
    "        self.num_words = 3 # Count default tokens\n",
    "\n",
    "        for word in keep_words:\n",
    "            self.addWord(word)"
   ]
  },
  {
   "cell_type": "markdown",
   "metadata": {
    "id": "v0UYUHm-YEjw"
   },
   "source": [
    "Now we finally getting to the part where we begin to make the (sentence, response) pairs. We begin preprocessing by converting the Unicode string texts to ASCII `unicodeToAscii()`. We also make everything lower case, and remove nonletters except for basic punctuation `normalizeString()`. The last thing that is done in preprocessing is ignore sentences beyond a certain length to aid in training `filterPair()` and `MAX_LENGTH`."
   ]
  },
  {
   "cell_type": "code",
   "execution_count": 21,
   "metadata": {
    "colab": {
     "base_uri": "https://localhost:8080/"
    },
    "id": "eUMxtJ3ZYEjw",
    "outputId": "916f246f-0348-42c7-9537-ee210204ff22"
   },
   "outputs": [
    {
     "name": "stdout",
     "output_type": "stream",
     "text": [
      "Start preparing training data ...\n",
      "Reading lines...\n",
      "Read 13307 sentence pairs\n",
      "Trimmed to 1924 sentence pairs\n",
      "Counting words...\n",
      "Counted words: 1638\n",
      "\n",
      "pairs:\n",
      "['will it work on windows ?', 'yes']\n",
      "['will this work on a mac', 'sorry to tell you terresa it won t play']\n",
      "['will this game work with windows vista ?', 'yes !']\n",
      "['will it work on windows ?', 'yes']\n",
      "['will this work on a mac', 'sorry to tell you terresa it won t play']\n",
      "['will this game work with windows vista ?', 'yes !']\n",
      "['how many different machines ?', 'there are tables .']\n",
      "['will it work on windows xp ?', 'yes .']\n",
      "['does it play on a windows os ?', 'yes']\n",
      "['how many different machines ?', 'there are tables .']\n"
     ]
    }
   ],
   "source": [
    "MAX_LENGTH = 10  # Maximum sentence length to consider\n",
    "\n",
    "# Turn a Unicode string to plain ASCII, thanks to\n",
    "# https://stackoverflow.com/a/518232/2809427\n",
    "def unicodeToAscii(s):\n",
    "    return ''.join(\n",
    "        c for c in unicodedata.normalize('NFD', s)\n",
    "        if unicodedata.category(c) != 'Mn'\n",
    "    )\n",
    "\n",
    "# Lowercase, trim, and remove non-letter characters\n",
    "def normalizeString(s):\n",
    "    s = unicodeToAscii(s.lower().strip())\n",
    "    s = re.sub(r\"([.!?])\", r\" \\1\", s)\n",
    "    s = re.sub(r\"[^a-zA-Z.!?]+\", r\" \", s)\n",
    "    s = re.sub(r\"\\s+\", r\" \", s).strip()\n",
    "    return s\n",
    "\n",
    "# Read query/response pairs and return a voc object\n",
    "def readVocs(datafile, corpus_name):\n",
    "    print(\"Reading lines...\")\n",
    "    # Read the file and split into lines\n",
    "    lines = open(datafile, encoding='utf-8').\\\n",
    "        read().strip().split('\\n')\n",
    "    # Split every line into pairs and normalize\n",
    "    pairs = [[normalizeString(s) for s in l.split('\\t')] for l in lines]\n",
    "    voc = Voc(corpus_name)\n",
    "    return voc, pairs\n",
    "\n",
    "# Returns True iff both sentences in a pair 'p' are under the MAX_LENGTH threshold\n",
    "def filterPair(p):\n",
    "    # Input sequences need to preserve the last word for EOS token\n",
    "    return len(p[0].split(' ')) < MAX_LENGTH and len(p[1].split(' ')) < MAX_LENGTH\n",
    "\n",
    "# Filter pairs using filterPair condition\n",
    "def filterPairs(pairs):\n",
    "    return [pair for pair in pairs if filterPair(pair)]\n",
    "\n",
    "# Using the functions defined above, return a populated voc object and pairs list\n",
    "def loadPrepareData(corpus, corpus_name, datafile, save_dir):\n",
    "    print(\"Start preparing training data ...\")\n",
    "    voc, pairs = readVocs(datafile, corpus_name)\n",
    "    print(\"Read {!s} sentence pairs\".format(len(pairs)))\n",
    "    pairs = filterPairs(pairs)\n",
    "    print(\"Trimmed to {!s} sentence pairs\".format(len(pairs)))\n",
    "    print(\"Counting words...\")\n",
    "    for pair in pairs:\n",
    "        voc.addSentence(pair[0])\n",
    "        voc.addSentence(pair[1])\n",
    "    print(\"Counted words:\", voc.num_words)\n",
    "    return voc, pairs\n",
    "\n",
    "\n",
    "# Load/Assemble voc and pairs\n",
    "save_dir = os.path.join(\"data\", \"save\")\n",
    "voc, pairs = loadPrepareData(corpus, corpus_name, datafile, save_dir)\n",
    "# Print some pairs to validate\n",
    "print(\"\\npairs:\")\n",
    "for pair in pairs[:10]:\n",
    "    print(pair)"
   ]
  },
  {
   "cell_type": "markdown",
   "metadata": {
    "id": "F8t3CgRYYEjx"
   },
   "source": [
    "Another way to speed up training is by removing words that are rarely used. We \"trim\" these words using `Voc.trim()` and as a result must also remove (sentence, response) pairs that include these words."
   ]
  },
  {
   "cell_type": "code",
   "execution_count": 22,
   "metadata": {
    "colab": {
     "base_uri": "https://localhost:8080/"
    },
    "id": "Qc3Lbw7HYEjx",
    "outputId": "9eabd836-e415-4228-b091-9faa61573234"
   },
   "outputs": [
    {
     "name": "stdout",
     "output_type": "stream",
     "text": [
      "keep_words 615 / 1635 = 0.3761\n",
      "Trimmed from 1924 pairs to 1132, 0.5884 of total\n"
     ]
    }
   ],
   "source": [
    "MIN_COUNT = 3    # Minimum word count threshold for trimming\n",
    "\n",
    "def trimRareWords(voc, pairs, MIN_COUNT):\n",
    "    # Trim words used under the MIN_COUNT from the voc\n",
    "    voc.trim(MIN_COUNT)\n",
    "    # Filter out pairs with trimmed words\n",
    "    keep_pairs = []\n",
    "    for pair in pairs:\n",
    "        input_sentence = pair[0]\n",
    "        output_sentence = pair[1]\n",
    "        keep_input = True\n",
    "        keep_output = True\n",
    "        # Check input sentence\n",
    "        for word in input_sentence.split(' '):\n",
    "            if word not in voc.word2index:\n",
    "                keep_input = False\n",
    "                break\n",
    "        # Check output sentence\n",
    "        for word in output_sentence.split(' '):\n",
    "            if word not in voc.word2index:\n",
    "                keep_output = False\n",
    "                break\n",
    "\n",
    "        # Only keep pairs that do not contain trimmed word(s) in their input or output sentence\n",
    "        if keep_input and keep_output:\n",
    "            keep_pairs.append(pair)\n",
    "\n",
    "    print(\"Trimmed from {} pairs to {}, {:.4f} of total\".format(len(pairs), len(keep_pairs), len(keep_pairs) / len(pairs)))\n",
    "    return keep_pairs\n",
    "\n",
    "\n",
    "# Trim voc and pairs\n",
    "pairs = trimRareWords(voc, pairs, MIN_COUNT)"
   ]
  },
  {
   "cell_type": "markdown",
   "metadata": {
    "id": "fcx3HewtYEjy"
   },
   "source": [
    "### Using our Data on our Models"
   ]
  },
  {
   "cell_type": "markdown",
   "metadata": {
    "id": "8rFZ2A3YYEjy"
   },
   "source": [
    "The data still needs to be processed more. The model that we use will take numerical values and not actual strings to do computation. We convert our sentences to tensors (vectors) that our model will take as inputs. To do this, we just take every sentence and change it to be a vector of index that corresponds to that word. This is how we will use our data to train the model. \n",
    "\n",
    "If we would like to train our model we usually do it with minbatches since it makes things faster. We make a matrix of dimensions (BatchLength, MaxLengthOfSentenceInBatch) represented numerically as mentioned in the previous paragraph. With this we make sure that each row (sentence) of our matrix terminates with `EOS_Token` and is followed by 0 entries until the end of the row.\n",
    "\n",
    "This implementation almost works, the problem with this is that each row is a sentence and every column is a step in time. However, it is better to think of every row as a step in time and the column to be possible words to choose for that step in time. For this reason, we construct the Matrix as mentioned in the previous paragraph except it is now transposed. \n",
    "\n",
    "We define some function that help us achieve this ..."
   ]
  },
  {
   "cell_type": "code",
   "execution_count": 23,
   "metadata": {
    "colab": {
     "base_uri": "https://localhost:8080/"
    },
    "id": "rFiiIGWIYEjy",
    "outputId": "d17fc898-5e65-4021-fd68-627d6970e9a3"
   },
   "outputs": [
    {
     "name": "stdout",
     "output_type": "stream",
     "text": [
      "input_variable: tensor([[ 60,  32,  32,  49,  49],\n",
      "        [ 39,  10,   4,   4,  10],\n",
      "        [143,   5,   5,   5,  20],\n",
      "        [ 65,   6,  64,  64,  57],\n",
      "        [ 20,  50,  65, 165, 508],\n",
      "        [598, 589,  63, 223, 470],\n",
      "        [ 65, 303,   8,   8,   8],\n",
      "        [344,   8,   2,   2,   2],\n",
      "        [  8,   2,   0,   0,   0],\n",
      "        [  2,   0,   0,   0,   0]])\n",
      "lengths: tensor([10,  9,  8,  8,  8])\n",
      "target_variable: tensor([[ 44, 125,   9,   9,  44],\n",
      "        [  2,  30,   4,   2,   2],\n",
      "        [  0,  28,  32,   0,   0],\n",
      "        [  0,  49,   2,   0,   0],\n",
      "        [  0,  11,   0,   0,   0],\n",
      "        [  0, 590,   0,   0,   0],\n",
      "        [  0, 272,   0,   0,   0],\n",
      "        [  0,  30,   0,   0,   0],\n",
      "        [  0,   2,   0,   0,   0]])\n",
      "mask: tensor([[ True,  True,  True,  True,  True],\n",
      "        [ True,  True,  True,  True,  True],\n",
      "        [False,  True,  True, False, False],\n",
      "        [False,  True,  True, False, False],\n",
      "        [False,  True, False, False, False],\n",
      "        [False,  True, False, False, False],\n",
      "        [False,  True, False, False, False],\n",
      "        [False,  True, False, False, False],\n",
      "        [False,  True, False, False, False]])\n",
      "max_target_len: 9\n"
     ]
    }
   ],
   "source": [
    "def indexesFromSentence(voc, sentence):\n",
    "    return [voc.word2index[word] for word in sentence.split(' ')] + [EOS_token]\n",
    "\n",
    "\n",
    "def zeroPadding(l, fillvalue=PAD_token):\n",
    "    return list(itertools.zip_longest(*l, fillvalue=fillvalue))\n",
    "\n",
    "def binaryMatrix(l, value=PAD_token):\n",
    "    m = []\n",
    "    for i, seq in enumerate(l):\n",
    "        m.append([])\n",
    "        for token in seq:\n",
    "            if token == PAD_token:\n",
    "                m[i].append(0)\n",
    "            else:\n",
    "                m[i].append(1)\n",
    "    return m\n",
    "\n",
    "# Returns padded input sequence tensor and lengths\n",
    "def inputVar(l, voc):\n",
    "    indexes_batch = [indexesFromSentence(voc, sentence) for sentence in l]\n",
    "    lengths = torch.tensor([len(indexes) for indexes in indexes_batch])\n",
    "    padList = zeroPadding(indexes_batch)\n",
    "    padVar = torch.LongTensor(padList)\n",
    "    return padVar, lengths\n",
    "\n",
    "# Returns padded target sequence tensor, padding mask, and max target length\n",
    "def outputVar(l, voc):\n",
    "    indexes_batch = [indexesFromSentence(voc, sentence) for sentence in l]\n",
    "    max_target_len = max([len(indexes) for indexes in indexes_batch])\n",
    "    padList = zeroPadding(indexes_batch)\n",
    "    mask = binaryMatrix(padList)\n",
    "    mask = torch.BoolTensor(mask)\n",
    "    padVar = torch.LongTensor(padList)\n",
    "    return padVar, mask, max_target_len\n",
    "\n",
    "# Returns all items for a given batch of pairs\n",
    "def batch2TrainData(voc, pair_batch):\n",
    "    pair_batch.sort(key=lambda x: len(x[0].split(\" \")), reverse=True)\n",
    "    input_batch, output_batch = [], []\n",
    "    for pair in pair_batch:\n",
    "        input_batch.append(pair[0])\n",
    "        output_batch.append(pair[1])\n",
    "    inp, lengths = inputVar(input_batch, voc)\n",
    "    output, mask, max_target_len = outputVar(output_batch, voc)\n",
    "    return inp, lengths, output, mask, max_target_len\n",
    "\n",
    "\n",
    "# Example for validation\n",
    "small_batch_size = 5\n",
    "batches = batch2TrainData(voc, [random.choice(pairs) for _ in range(small_batch_size)])\n",
    "input_variable, lengths, target_variable, mask, max_target_len = batches\n",
    "\n",
    "print(\"input_variable:\", input_variable)\n",
    "print(\"lengths:\", lengths)\n",
    "print(\"target_variable:\", target_variable)\n",
    "print(\"mask:\", mask)\n",
    "print(\"max_target_len:\", max_target_len)"
   ]
  },
  {
   "cell_type": "markdown",
   "metadata": {
    "id": "iJsnFH94YEjy"
   },
   "source": [
    "Seeing the output from preping the data above, it appears that `input_variable` is the matrix described in the previous secsion. `lenghts` is just a tensor (vector) of how long the sentences in the input were. This will eventually be used for the **decoder** later in the program. `target_variable` seems to be the response that our model is supposed to learn. `mask` looks like it is a mask for responses where true is that there is a word and false is that there is no word there. Not sure why this variable is necessary but maybe it will become clearer at some point in the tutorial. "
   ]
  },
  {
   "cell_type": "markdown",
   "metadata": {
    "id": "2uxFggZaYEjy"
   },
   "source": [
    "### Defining our Model"
   ]
  },
  {
   "cell_type": "markdown",
   "metadata": {
    "id": "Qz3X1ZeBYEjz"
   },
   "source": [
    "Our base model is a Sequence-to-Sequence model using two RNN's. The first RNN is what is called the **encoder** and it takes a variable length input and converts it into a *fixed length* \"context\" vector that is intended to hold onto some semantic meaning of the input. The **decoder** takes the context vector provided by the decoder along with an input word to guess the next word in a sequence. I suppose our (sentence, response) pairs are learned as one long continuous sequence where the sentence is the start of hte sequence and the response is the remainder of the sequence, though this might be entirely incorrect."
   ]
  },
  {
   "cell_type": "markdown",
   "metadata": {
    "id": "I5d6vNZQYEjz"
   },
   "source": [
    "Some discussion on the Encoder. The encoder uses a bidirectional GRU (Gated Recurrent Unit), meaning that there is basically two RNN's that make up the encoder, one that goes through the sequence of data in the forward direction while another RNN goes through the sequence in the backward direction. At each time step, both RNN's produce an output and a hidden state vector. At each time step, the output of both RNNs are summed and the output is recorded (somewhere) while the hidden state vectors are pushed along and used in the next step of the RNN. The outputs are summed makes it so that at each time step, the RNN is considering present and future context. "
   ]
  },
  {
   "cell_type": "code",
   "execution_count": 24,
   "metadata": {
    "id": "RO3dj6MyYEjz"
   },
   "outputs": [],
   "source": [
    "class EncoderRNN(nn.Module):\n",
    "    def __init__(self, hidden_size, embedding, n_layers=1, dropout=0):\n",
    "        super(EncoderRNN, self).__init__()\n",
    "        self.n_layers = n_layers\n",
    "        self.hidden_size = hidden_size\n",
    "        self.embedding = embedding\n",
    "\n",
    "        # Initialize GRU; the input_size and hidden_size params are both set to 'hidden_size'\n",
    "        #   because our input size is a word embedding with number of features == hidden_size\n",
    "        self.gru = nn.GRU(hidden_size, hidden_size, n_layers,\n",
    "                          dropout=(0 if n_layers == 1 else dropout), bidirectional=True)\n",
    "\n",
    "    def forward(self, input_seq, input_lengths, hidden=None):\n",
    "        # Convert word indexes to embeddings\n",
    "        embedded = self.embedding(input_seq)\n",
    "        # Pack padded batch of sequences for RNN module\n",
    "        packed = nn.utils.rnn.pack_padded_sequence(embedded, input_lengths)\n",
    "        # Forward pass through GRU\n",
    "        outputs, hidden = self.gru(packed, hidden)\n",
    "        # Unpack padding\n",
    "        outputs, _ = nn.utils.rnn.pad_packed_sequence(outputs)\n",
    "        # Sum bidirectional GRU outputs\n",
    "        outputs = outputs[:, :, :self.hidden_size] + outputs[:, : ,self.hidden_size:]\n",
    "        # Return output and final hidden state\n",
    "        return outputs, hidden"
   ]
  },
  {
   "cell_type": "markdown",
   "metadata": {
    "id": "yp7AFlAKYEjz"
   },
   "source": [
    "Some discussion on the Decoder. The decoder uses the context vector that is produced by the encoder. Usually, this is all that will be used by a decoder to produce output but this can result in a loss of information, expecially when the input sentences are very long. To counter this, the decoder also uses its current hidden state as a way of determining what it should be \"paying attention\" to. These are refered to as attention weights and are multiplied by the outputs from the encoder (the output that is apperantly recorded somewhere, this is where they are used) from the current time step to rescale the values, making less important parts of the encoder output smaller and more important parts of the encoder output larger. This can be further improved by using all of the encoder outputs instead of just the one of the current time step to have a more comprehensive set of attention weights. This is the method implemented below, followed by the implementation of the decoder using this attention method."
   ]
  },
  {
   "cell_type": "code",
   "execution_count": 25,
   "metadata": {
    "id": "pl_6HIzbYEjz"
   },
   "outputs": [],
   "source": [
    "# Luong attention layer\n",
    "class Attn(nn.Module):\n",
    "    def __init__(self, method, hidden_size):\n",
    "        super(Attn, self).__init__()\n",
    "        self.method = method\n",
    "        if self.method not in ['dot', 'general', 'concat']:\n",
    "            raise ValueError(self.method, \"is not an appropriate attention method.\")\n",
    "        self.hidden_size = hidden_size\n",
    "        if self.method == 'general':\n",
    "            self.attn = nn.Linear(self.hidden_size, hidden_size)\n",
    "        elif self.method == 'concat':\n",
    "            self.attn = nn.Linear(self.hidden_size * 2, hidden_size)\n",
    "            self.v = nn.Parameter(torch.FloatTensor(hidden_size))\n",
    "\n",
    "    def dot_score(self, hidden, encoder_output):\n",
    "        return torch.sum(hidden * encoder_output, dim=2)\n",
    "\n",
    "    def general_score(self, hidden, encoder_output):\n",
    "        energy = self.attn(encoder_output)\n",
    "        return torch.sum(hidden * energy, dim=2)\n",
    "\n",
    "    def concat_score(self, hidden, encoder_output):\n",
    "        energy = self.attn(torch.cat((hidden.expand(encoder_output.size(0), -1, -1), encoder_output), 2)).tanh()\n",
    "        return torch.sum(self.v * energy, dim=2)\n",
    "\n",
    "    def forward(self, hidden, encoder_outputs):\n",
    "        # Calculate the attention weights (energies) based on the given method\n",
    "        if self.method == 'general':\n",
    "            attn_energies = self.general_score(hidden, encoder_outputs)\n",
    "        elif self.method == 'concat':\n",
    "            attn_energies = self.concat_score(hidden, encoder_outputs)\n",
    "        elif self.method == 'dot':\n",
    "            attn_energies = self.dot_score(hidden, encoder_outputs)\n",
    "\n",
    "        # Transpose max_length and batch_size dimensions\n",
    "        attn_energies = attn_energies.t()\n",
    "\n",
    "        # Return the softmax normalized probability scores (with added dimension)\n",
    "        return F.softmax(attn_energies, dim=1).unsqueeze(1)"
   ]
  },
  {
   "cell_type": "code",
   "execution_count": 26,
   "metadata": {
    "id": "COT93fwnYEjz"
   },
   "outputs": [],
   "source": [
    "class LuongAttnDecoderRNN(nn.Module):\n",
    "    def __init__(self, attn_model, embedding, hidden_size, output_size, n_layers=1, dropout=0.1):\n",
    "        super(LuongAttnDecoderRNN, self).__init__()\n",
    "\n",
    "        # Keep for reference\n",
    "        self.attn_model = attn_model\n",
    "        self.hidden_size = hidden_size\n",
    "        self.output_size = output_size\n",
    "        self.n_layers = n_layers\n",
    "        self.dropout = dropout\n",
    "\n",
    "        # Define layers\n",
    "        self.embedding = embedding\n",
    "        self.embedding_dropout = nn.Dropout(dropout)\n",
    "        self.gru = nn.GRU(hidden_size, hidden_size, n_layers, dropout=(0 if n_layers == 1 else dropout))\n",
    "        self.concat = nn.Linear(hidden_size * 2, hidden_size)\n",
    "        self.out = nn.Linear(hidden_size, output_size)\n",
    "\n",
    "        self.attn = Attn(attn_model, hidden_size)\n",
    "\n",
    "    def forward(self, input_step, last_hidden, encoder_outputs):\n",
    "        # Note: we run this one step (word) at a time\n",
    "        # Get embedding of current input word\n",
    "        embedded = self.embedding(input_step)\n",
    "        embedded = self.embedding_dropout(embedded)\n",
    "        # Forward through unidirectional GRU\n",
    "        rnn_output, hidden = self.gru(embedded, last_hidden)\n",
    "        # Calculate attention weights from the current GRU output\n",
    "        attn_weights = self.attn(rnn_output, encoder_outputs)\n",
    "        # Multiply attention weights to encoder outputs to get new \"weighted sum\" context vector\n",
    "        context = attn_weights.bmm(encoder_outputs.transpose(0, 1))\n",
    "        # Concatenate weighted context vector and GRU output using Luong eq. 5\n",
    "        rnn_output = rnn_output.squeeze(0)\n",
    "        context = context.squeeze(1)\n",
    "        concat_input = torch.cat((rnn_output, context), 1)\n",
    "        concat_output = torch.tanh(self.concat(concat_input))\n",
    "        # Predict next word using Luong eq. 6\n",
    "        output = self.out(concat_output)\n",
    "        output = F.softmax(output, dim=1)\n",
    "        # Return output and final hidden state\n",
    "        return output, hidden"
   ]
  },
  {
   "cell_type": "markdown",
   "metadata": {
    "id": "NZ-jFUT9YEj0"
   },
   "source": [
    "### Defining the Training Procedure"
   ]
  },
  {
   "cell_type": "markdown",
   "metadata": {
    "id": "Vv47f9tVYEj0"
   },
   "source": [
    "Recall earlier in the `mask` produced along side the `target_variable` was produced for an unknown purpose, it turns out its purpose is for determining the loss of the model. This implementation below is the negative-log-likelihood loss and the variable `mask` along with `target_variable`."
   ]
  },
  {
   "cell_type": "code",
   "execution_count": 27,
   "metadata": {
    "id": "9IlYqEzvYEj0"
   },
   "outputs": [],
   "source": [
    "def maskNLLLoss(inp, target, mask):\n",
    "    nTotal = mask.sum()\n",
    "    crossEntropy = -torch.log(torch.gather(inp, 1, target.view(-1, 1)).squeeze(1))\n",
    "    loss = crossEntropy.masked_select(mask).mean()\n",
    "    loss = loss.to(device)\n",
    "    return loss, nTotal.item()"
   ]
  },
  {
   "cell_type": "markdown",
   "metadata": {
    "id": "CysPNYjSYEj0"
   },
   "source": [
    "For training the model, two tricks are used to help convergence. The first trick is refered to as \"teacher forcing\" which just overrides the prediction of the decoder and uses the actual target value instead, this happens with some small probability p. Doing it too much will make the decoder unable to make predictions on its own and not having this feature will make it so that convergence is just slower. The second trick they do is gradient clipping, meaning that at areas in the feature space where there is a steep gradient and therefore a chance to improve the model very fast, the magnitude of the gradient is limited some value. This is to not drastically overshoot local minima on \"cliffs\". The training function is implemented below. This trains only one iteration."
   ]
  },
  {
   "cell_type": "code",
   "execution_count": 28,
   "metadata": {
    "id": "m9Z_uB-HYEj0"
   },
   "outputs": [],
   "source": [
    "def train(input_variable, lengths, target_variable, mask, max_target_len, encoder, decoder, embedding,\n",
    "          encoder_optimizer, decoder_optimizer, batch_size, clip, max_length=MAX_LENGTH):\n",
    "\n",
    "    # Zero gradients\n",
    "    encoder_optimizer.zero_grad()\n",
    "    decoder_optimizer.zero_grad()\n",
    "\n",
    "    # Set device options\n",
    "    input_variable = input_variable.to(device)\n",
    "    target_variable = target_variable.to(device)\n",
    "    mask = mask.to(device)\n",
    "    # Lengths for rnn packing should always be on the cpu\n",
    "    lengths = lengths.to(\"cpu\")\n",
    "\n",
    "    # Initialize variables\n",
    "    loss = 0\n",
    "    print_losses = []\n",
    "    n_totals = 0\n",
    "\n",
    "    # Forward pass through encoder\n",
    "    encoder_outputs, encoder_hidden = encoder(input_variable, lengths)\n",
    "\n",
    "    # Create initial decoder input (start with SOS tokens for each sentence)\n",
    "    decoder_input = torch.LongTensor([[SOS_token for _ in range(batch_size)]])\n",
    "    decoder_input = decoder_input.to(device)\n",
    "\n",
    "    # Set initial decoder hidden state to the encoder's final hidden state\n",
    "    decoder_hidden = encoder_hidden[:decoder.n_layers]\n",
    "\n",
    "    # Determine if we are using teacher forcing this iteration\n",
    "    use_teacher_forcing = True if random.random() < teacher_forcing_ratio else False\n",
    "\n",
    "    # Forward batch of sequences through decoder one time step at a time\n",
    "    if use_teacher_forcing:\n",
    "        for t in range(max_target_len):\n",
    "            decoder_output, decoder_hidden = decoder(\n",
    "                decoder_input, decoder_hidden, encoder_outputs\n",
    "            )\n",
    "            # Teacher forcing: next input is current target\n",
    "            decoder_input = target_variable[t].view(1, -1)\n",
    "            # Calculate and accumulate loss\n",
    "            mask_loss, nTotal = maskNLLLoss(decoder_output, target_variable[t], mask[t])\n",
    "            loss += mask_loss\n",
    "            print_losses.append(mask_loss.item() * nTotal)\n",
    "            n_totals += nTotal\n",
    "    else:\n",
    "        for t in range(max_target_len):\n",
    "            decoder_output, decoder_hidden = decoder(\n",
    "                decoder_input, decoder_hidden, encoder_outputs\n",
    "            )\n",
    "            # No teacher forcing: next input is decoder's own current output\n",
    "            _, topi = decoder_output.topk(1)\n",
    "            decoder_input = torch.LongTensor([[topi[i][0] for i in range(batch_size)]])\n",
    "            decoder_input = decoder_input.to(device)\n",
    "            # Calculate and accumulate loss\n",
    "            mask_loss, nTotal = maskNLLLoss(decoder_output, target_variable[t], mask[t])\n",
    "            loss += mask_loss\n",
    "            print_losses.append(mask_loss.item() * nTotal)\n",
    "            n_totals += nTotal\n",
    "\n",
    "    # Perform backpropatation\n",
    "    loss.backward()\n",
    "\n",
    "    # Clip gradients: gradients are modified in place\n",
    "    _ = nn.utils.clip_grad_norm_(encoder.parameters(), clip)\n",
    "    _ = nn.utils.clip_grad_norm_(decoder.parameters(), clip)\n",
    "\n",
    "    # Adjust model weights\n",
    "    encoder_optimizer.step()\n",
    "    decoder_optimizer.step()\n",
    "\n",
    "    return sum(print_losses) / n_totals\n"
   ]
  },
  {
   "cell_type": "markdown",
   "metadata": {
    "id": "9IHwkw-UYEj0"
   },
   "source": [
    "This version of the training function trains on multiple iterations. It is built on the previous training function. This function also saves the current variables in a tarball file. This is to continue training at a later period or just use the current accumulated training to make predictions."
   ]
  },
  {
   "cell_type": "code",
   "execution_count": 29,
   "metadata": {
    "id": "6rokZiRGYEj0"
   },
   "outputs": [],
   "source": [
    "def trainIters(model_name, voc, pairs, encoder, decoder, encoder_optimizer, decoder_optimizer, embedding, \n",
    "               encoder_n_layers, decoder_n_layers, save_dir, n_iteration, batch_size, print_every, save_every, \n",
    "               clip, corpus_name, loadFilename):\n",
    "\n",
    "    # Load batches for each iteration\n",
    "    training_batches = [batch2TrainData(voc, [random.choice(pairs) for _ in range(batch_size)])\n",
    "                      for _ in range(n_iteration)]\n",
    "\n",
    "    # Initializations\n",
    "    print('Initializing ...')\n",
    "    start_iteration = 1\n",
    "    print_loss = 0\n",
    "    if loadFilename:\n",
    "        start_iteration = checkpoint['iteration'] + 1\n",
    "\n",
    "    # Training loop\n",
    "    print(\"Training...\")\n",
    "    for iteration in range(start_iteration, n_iteration + 1):\n",
    "        training_batch = training_batches[iteration - 1]\n",
    "        # Extract fields from batch\n",
    "        input_variable, lengths, target_variable, mask, max_target_len = training_batch\n",
    "\n",
    "        # Run a training iteration with batch\n",
    "        loss = train(input_variable, lengths, target_variable, mask, max_target_len, encoder,\n",
    "                     decoder, embedding, encoder_optimizer, decoder_optimizer, batch_size, clip)\n",
    "        print_loss += loss\n",
    "\n",
    "        # Print progress\n",
    "        if iteration % print_every == 0:\n",
    "            print_loss_avg = print_loss / print_every\n",
    "            print(\"Iteration: {}; Percent complete: {:.1f}%; Average loss: {:.4f}\".format(\n",
    "                iteration, iteration / n_iteration * 100, print_loss_avg\n",
    "            ))\n",
    "            print_loss = 0\n",
    "\n",
    "        # Save checkpoint\n",
    "        if (iteration % save_every == 0):\n",
    "            directory = os.path.join(save_dir, model_name, corpus_name, '{}-{}_{}'.format(\n",
    "                encoder_n_layers, decoder_n_layers, hidden_size\n",
    "            ))\n",
    "            if not os.path.exists(directory):\n",
    "                os.makedirs(directory)\n",
    "            torch.save({\n",
    "                'iteration': iteration,\n",
    "                'en': encoder.state_dict(),\n",
    "                'de': decoder.state_dict(),\n",
    "                'en_opt': encoder_optimizer.state_dict(),\n",
    "                'de_opt': decoder_optimizer.state_dict(),\n",
    "                'loss': loss,\n",
    "                'voc_dict': voc.__dict__,\n",
    "                'embedding': embedding.state_dict()\n",
    "            }, os.path.join(directory, '{}_{}.tar'.format(iteration, 'checkpoint')))\n"
   ]
  },
  {
   "cell_type": "markdown",
   "metadata": {
    "id": "IA7bXz2jYEj0"
   },
   "source": [
    "### Defining Evaluation"
   ]
  },
  {
   "cell_type": "markdown",
   "metadata": {
    "id": "t40WfoKBYEj1"
   },
   "source": [
    "This is the training method used by our bot when we are not using the \"teacher forcing\" method. This just basically chooses the output of hte decoder to be the output with the highest softmax score, ie the best response given its prior training. I think this is defining a decoder method for whenever we are actually using our model instead of when it is training."
   ]
  },
  {
   "cell_type": "code",
   "execution_count": 30,
   "metadata": {
    "id": "v-lQ4O2gYEj1"
   },
   "outputs": [],
   "source": [
    "class GreedySearchDecoder(nn.Module):\n",
    "    def __init__(self, encoder, decoder):\n",
    "        super(GreedySearchDecoder, self).__init__()\n",
    "        self.encoder = encoder\n",
    "        self.decoder = decoder\n",
    "\n",
    "    def forward(self, input_seq, input_length, max_length):\n",
    "        # Forward input through encoder model\n",
    "        encoder_outputs, encoder_hidden = self.encoder(input_seq, input_length)\n",
    "        # Prepare encoder's final hidden layer to be first hidden input to the decoder\n",
    "        decoder_hidden = encoder_hidden[:decoder.n_layers]\n",
    "        # Initialize decoder input with SOS_token\n",
    "        decoder_input = torch.ones(1, 1, device=device, dtype=torch.long) * SOS_token\n",
    "        # Initialize tensors to append decoded words to\n",
    "        all_tokens = torch.zeros([0], device=device, dtype=torch.long)\n",
    "        all_scores = torch.zeros([0], device=device)\n",
    "        # Iteratively decode one word token at a time\n",
    "        for _ in range(max_length):\n",
    "            # Forward pass through decoder\n",
    "            decoder_output, decoder_hidden = self.decoder(decoder_input, decoder_hidden, encoder_outputs)\n",
    "            # Obtain most likely word token and its softmax score\n",
    "            decoder_scores, decoder_input = torch.max(decoder_output, dim=1)\n",
    "            # Record token and score\n",
    "            all_tokens = torch.cat((all_tokens, decoder_input), dim=0)\n",
    "            all_scores = torch.cat((all_scores, decoder_scores), dim=0)\n",
    "            # Prepare current token to be next decoder input (add a dimension)\n",
    "            decoder_input = torch.unsqueeze(decoder_input, 0)\n",
    "        # Return collections of word tokens and scores\n",
    "        return all_tokens, all_scores"
   ]
  },
  {
   "cell_type": "markdown",
   "metadata": {
    "id": "H2OOJOpvYEj1"
   },
   "source": [
    "The `evaluateInput` function is meant to take input from the user, prepare it so that it may be fed to our model, and pring out the response from our bot. `evaluate` handles most of hte actual calculation while `evaluateInput` handles most of the user interaction phase. "
   ]
  },
  {
   "cell_type": "code",
   "execution_count": 31,
   "metadata": {
    "id": "ord645IyYEj1"
   },
   "outputs": [],
   "source": [
    "def evaluate(encoder, decoder, searcher, voc, sentence, max_length=MAX_LENGTH):\n",
    "    ### Format input sentence as a batch\n",
    "    # words -> indexes\n",
    "    indexes_batch = [indexesFromSentence(voc, sentence)]\n",
    "    # Create lengths tensor\n",
    "    lengths = torch.tensor([len(indexes) for indexes in indexes_batch])\n",
    "    # Transpose dimensions of batch to match models' expectations\n",
    "    input_batch = torch.LongTensor(indexes_batch).transpose(0, 1)\n",
    "    # Use appropriate device\n",
    "    input_batch = input_batch.to(device)\n",
    "    #lengths = lengths.to(device) # removed bc of gpu cpu tensor difference ###################################\n",
    "    # Decode sentence with searcher\n",
    "    tokens, scores = searcher(input_batch, lengths, max_length)\n",
    "    # indexes -> words\n",
    "    decoded_words = [voc.index2word[token.item()] for token in tokens]\n",
    "    return decoded_words\n",
    "\n",
    "\n",
    "def evaluateInput(encoder, decoder, searcher, voc):\n",
    "    input_sentence = ''\n",
    "    while(1):\n",
    "        try:\n",
    "            # Get input sentence\n",
    "            input_sentence = input('> ')\n",
    "            # Check if it is quit case\n",
    "            if input_sentence == 'q' or input_sentence == 'quit': break\n",
    "            # Normalize sentence\n",
    "            input_sentence = normalizeString(input_sentence)\n",
    "            # Evaluate sentence\n",
    "            output_words = evaluate(encoder, decoder, searcher, voc, input_sentence)\n",
    "            # Format and print response sentence\n",
    "            output_words[:] = [x for x in output_words if not (x == 'EOS' or x == 'PAD')]\n",
    "            print('Bot:', ' '.join(output_words))\n",
    "\n",
    "        except KeyError:\n",
    "            print(\"Error: Encountered unknown word.\")\n"
   ]
  },
  {
   "cell_type": "markdown",
   "metadata": {
    "id": "qdUyM1G5YEj1"
   },
   "source": [
    "### Running the Model"
   ]
  },
  {
   "cell_type": "markdown",
   "metadata": {
    "id": "N1vAMVQYYEj1"
   },
   "source": [
    "This defines and builds our model based on the following parameters. Notice that parts of the code are commented out as these are other possibilities ofr initialization. attn_model can be given one of three different models. We can also choose to load a model that we previously trained."
   ]
  },
  {
   "cell_type": "code",
   "execution_count": 32,
   "metadata": {
    "colab": {
     "base_uri": "https://localhost:8080/"
    },
    "id": "8mc-AHgOYEj1",
    "outputId": "29a7be7a-38c7-4c00-9d1e-d966593693bd"
   },
   "outputs": [
    {
     "name": "stdout",
     "output_type": "stream",
     "text": [
      "Building encoder and decoder ...\n",
      "Models built and ready to go!\n"
     ]
    }
   ],
   "source": [
    "# Configure models\n",
    "model_name = 'cb_model'\n",
    "attn_model = 'dot'\n",
    "#attn_model = 'general'\n",
    "#attn_model = 'concat'\n",
    "hidden_size = 500\n",
    "encoder_n_layers = 2\n",
    "decoder_n_layers = 2\n",
    "dropout = 0.1\n",
    "batch_size = 64\n",
    "\n",
    "# Set checkpoint to load from; set to None if starting from scratch\n",
    "loadFilename = None\n",
    "checkpoint_iter = 4000\n",
    "#loadFilename = os.path.join(save_dir, model_name, corpus_name,\n",
    "#                            '{}-{}_{}'.format(encoder_n_layers, decoder_n_layers, hidden_size),\n",
    "#                            '{}_checkpoint.tar'.format(checkpoint_iter))\n",
    "\n",
    "\n",
    "# Load model if a loadFilename is provided\n",
    "if loadFilename:\n",
    "    # If loading on same machine the model was trained on\n",
    "    checkpoint = torch.load(loadFilename)\n",
    "    # If loading a model trained on GPU to CPU\n",
    "    #checkpoint = torch.load(loadFilename, map_location=torch.device('cpu'))\n",
    "    encoder_sd = checkpoint['en']\n",
    "    decoder_sd = checkpoint['de']\n",
    "    encoder_optimizer_sd = checkpoint['en_opt']\n",
    "    decoder_optimizer_sd = checkpoint['de_opt']\n",
    "    embedding_sd = checkpoint['embedding']\n",
    "    voc.__dict__ = checkpoint['voc_dict']\n",
    "\n",
    "\n",
    "print('Building encoder and decoder ...')\n",
    "# Initialize word embeddings\n",
    "embedding = nn.Embedding(voc.num_words, hidden_size)\n",
    "if loadFilename:\n",
    "    embedding.load_state_dict(embedding_sd)\n",
    "# Initialize encoder & decoder models\n",
    "encoder = EncoderRNN(hidden_size, embedding, encoder_n_layers, dropout)\n",
    "decoder = LuongAttnDecoderRNN(attn_model, embedding, hidden_size, voc.num_words, decoder_n_layers, dropout)\n",
    "if loadFilename:\n",
    "    encoder.load_state_dict(encoder_sd)\n",
    "    decoder.load_state_dict(decoder_sd)\n",
    "# Use appropriate device\n",
    "encoder = encoder.to(device)\n",
    "decoder = decoder.to(device)\n",
    "print('Models built and ready to go!')"
   ]
  },
  {
   "cell_type": "markdown",
   "metadata": {
    "id": "uKWrwkp1YEj2"
   },
   "source": [
    "Now we train our model using `trainIters`. We first set some training parameters and initialize optimizers and prepare our model for training. Training is likely to take a very long time, thankfully there is the option to load from a previous model and this piece of code here doesn't need to be run every time."
   ]
  },
  {
   "cell_type": "code",
   "execution_count": 33,
   "metadata": {
    "id": "eJ5symv5YEj2"
   },
   "outputs": [],
   "source": [
    "# Safty precaution so that we dont accidentally begin training a model we didnt want to train\n",
    "TRAIN_THE_MODEL = True"
   ]
  },
  {
   "cell_type": "code",
   "execution_count": 35,
   "metadata": {
    "colab": {
     "base_uri": "https://localhost:8080/"
    },
    "id": "_AEx0VE1YEj2",
    "outputId": "a6d82db2-06a9-4ff9-b300-8a34c0b35104",
    "scrolled": true
   },
   "outputs": [
    {
     "name": "stdout",
     "output_type": "stream",
     "text": [
      "Building optimizers ...\n",
      "Starting Training!\n",
      "Initializing ...\n",
      "Training...\n",
      "Iteration: 1; Percent complete: 0.2%; Average loss: 0.6514\n",
      "Iteration: 2; Percent complete: 0.4%; Average loss: 0.7685\n",
      "Iteration: 3; Percent complete: 0.6%; Average loss: 0.6664\n",
      "Iteration: 4; Percent complete: 0.8%; Average loss: 0.6841\n",
      "Iteration: 5; Percent complete: 1.0%; Average loss: 0.6707\n",
      "Iteration: 6; Percent complete: 1.2%; Average loss: 0.8138\n",
      "Iteration: 7; Percent complete: 1.4%; Average loss: 0.7418\n",
      "Iteration: 8; Percent complete: 1.6%; Average loss: 0.6432\n",
      "Iteration: 9; Percent complete: 1.8%; Average loss: 0.8413\n",
      "Iteration: 10; Percent complete: 2.0%; Average loss: 0.7081\n",
      "Iteration: 11; Percent complete: 2.2%; Average loss: 0.6191\n",
      "Iteration: 12; Percent complete: 2.4%; Average loss: 0.7519\n",
      "Iteration: 13; Percent complete: 2.6%; Average loss: 0.6802\n",
      "Iteration: 14; Percent complete: 2.8%; Average loss: 0.5932\n",
      "Iteration: 15; Percent complete: 3.0%; Average loss: 0.7986\n",
      "Iteration: 16; Percent complete: 3.2%; Average loss: 0.7536\n",
      "Iteration: 17; Percent complete: 3.4%; Average loss: 0.5614\n",
      "Iteration: 18; Percent complete: 3.6%; Average loss: 0.5998\n",
      "Iteration: 19; Percent complete: 3.8%; Average loss: 0.5396\n",
      "Iteration: 20; Percent complete: 4.0%; Average loss: 0.5477\n",
      "Iteration: 21; Percent complete: 4.2%; Average loss: 0.6936\n",
      "Iteration: 22; Percent complete: 4.4%; Average loss: 0.6273\n",
      "Iteration: 23; Percent complete: 4.6%; Average loss: 0.6449\n",
      "Iteration: 24; Percent complete: 4.8%; Average loss: 0.7013\n",
      "Iteration: 25; Percent complete: 5.0%; Average loss: 0.7715\n",
      "Iteration: 26; Percent complete: 5.2%; Average loss: 0.5843\n",
      "Iteration: 27; Percent complete: 5.4%; Average loss: 0.6876\n",
      "Iteration: 28; Percent complete: 5.6%; Average loss: 0.7055\n",
      "Iteration: 29; Percent complete: 5.8%; Average loss: 0.6533\n",
      "Iteration: 30; Percent complete: 6.0%; Average loss: 0.6636\n",
      "Iteration: 31; Percent complete: 6.2%; Average loss: 0.5086\n",
      "Iteration: 32; Percent complete: 6.4%; Average loss: 0.5901\n",
      "Iteration: 33; Percent complete: 6.6%; Average loss: 0.6973\n",
      "Iteration: 34; Percent complete: 6.8%; Average loss: 0.6228\n",
      "Iteration: 35; Percent complete: 7.0%; Average loss: 0.6391\n",
      "Iteration: 36; Percent complete: 7.2%; Average loss: 0.7018\n",
      "Iteration: 37; Percent complete: 7.4%; Average loss: 0.6657\n",
      "Iteration: 38; Percent complete: 7.6%; Average loss: 0.5007\n",
      "Iteration: 39; Percent complete: 7.8%; Average loss: 0.6259\n",
      "Iteration: 40; Percent complete: 8.0%; Average loss: 0.5866\n",
      "Iteration: 41; Percent complete: 8.2%; Average loss: 0.5347\n",
      "Iteration: 42; Percent complete: 8.4%; Average loss: 0.6584\n",
      "Iteration: 43; Percent complete: 8.6%; Average loss: 0.5485\n",
      "Iteration: 44; Percent complete: 8.8%; Average loss: 0.6265\n",
      "Iteration: 45; Percent complete: 9.0%; Average loss: 0.6423\n",
      "Iteration: 46; Percent complete: 9.2%; Average loss: 0.7114\n",
      "Iteration: 47; Percent complete: 9.4%; Average loss: 0.5189\n",
      "Iteration: 48; Percent complete: 9.6%; Average loss: 0.5581\n",
      "Iteration: 49; Percent complete: 9.8%; Average loss: 0.6344\n",
      "Iteration: 50; Percent complete: 10.0%; Average loss: 0.5490\n",
      "Iteration: 51; Percent complete: 10.2%; Average loss: 0.8029\n",
      "Iteration: 52; Percent complete: 10.4%; Average loss: 0.5139\n",
      "Iteration: 53; Percent complete: 10.6%; Average loss: 0.5047\n",
      "Iteration: 54; Percent complete: 10.8%; Average loss: 0.5739\n",
      "Iteration: 55; Percent complete: 11.0%; Average loss: 0.6012\n",
      "Iteration: 56; Percent complete: 11.2%; Average loss: 0.5712\n",
      "Iteration: 57; Percent complete: 11.4%; Average loss: 0.4932\n",
      "Iteration: 58; Percent complete: 11.6%; Average loss: 0.6671\n",
      "Iteration: 59; Percent complete: 11.8%; Average loss: 0.4260\n",
      "Iteration: 60; Percent complete: 12.0%; Average loss: 0.4928\n",
      "Iteration: 61; Percent complete: 12.2%; Average loss: 0.5033\n",
      "Iteration: 62; Percent complete: 12.4%; Average loss: 0.5070\n",
      "Iteration: 63; Percent complete: 12.6%; Average loss: 0.4925\n",
      "Iteration: 64; Percent complete: 12.8%; Average loss: 0.5659\n",
      "Iteration: 65; Percent complete: 13.0%; Average loss: 0.5494\n",
      "Iteration: 66; Percent complete: 13.2%; Average loss: 0.4358\n",
      "Iteration: 67; Percent complete: 13.4%; Average loss: 0.5375\n",
      "Iteration: 68; Percent complete: 13.6%; Average loss: 0.5009\n",
      "Iteration: 69; Percent complete: 13.8%; Average loss: 0.4132\n",
      "Iteration: 70; Percent complete: 14.0%; Average loss: 0.4939\n",
      "Iteration: 71; Percent complete: 14.2%; Average loss: 0.5374\n",
      "Iteration: 72; Percent complete: 14.4%; Average loss: 0.4202\n",
      "Iteration: 73; Percent complete: 14.6%; Average loss: 0.4324\n",
      "Iteration: 74; Percent complete: 14.8%; Average loss: 0.5540\n",
      "Iteration: 75; Percent complete: 15.0%; Average loss: 0.5879\n",
      "Iteration: 76; Percent complete: 15.2%; Average loss: 0.3830\n",
      "Iteration: 77; Percent complete: 15.4%; Average loss: 0.4316\n",
      "Iteration: 78; Percent complete: 15.6%; Average loss: 0.4860\n",
      "Iteration: 79; Percent complete: 15.8%; Average loss: 0.4587\n",
      "Iteration: 80; Percent complete: 16.0%; Average loss: 0.5391\n",
      "Iteration: 81; Percent complete: 16.2%; Average loss: 0.4117\n",
      "Iteration: 82; Percent complete: 16.4%; Average loss: 0.4880\n",
      "Iteration: 83; Percent complete: 16.6%; Average loss: 0.5554\n",
      "Iteration: 84; Percent complete: 16.8%; Average loss: 0.4900\n",
      "Iteration: 85; Percent complete: 17.0%; Average loss: 0.4005\n",
      "Iteration: 86; Percent complete: 17.2%; Average loss: 0.3325\n",
      "Iteration: 87; Percent complete: 17.4%; Average loss: 0.4316\n",
      "Iteration: 88; Percent complete: 17.6%; Average loss: 0.4361\n",
      "Iteration: 89; Percent complete: 17.8%; Average loss: 0.3343\n",
      "Iteration: 90; Percent complete: 18.0%; Average loss: 0.4884\n",
      "Iteration: 91; Percent complete: 18.2%; Average loss: 0.4507\n",
      "Iteration: 92; Percent complete: 18.4%; Average loss: 0.3547\n",
      "Iteration: 93; Percent complete: 18.6%; Average loss: 0.3738\n",
      "Iteration: 94; Percent complete: 18.8%; Average loss: 0.3835\n",
      "Iteration: 95; Percent complete: 19.0%; Average loss: 0.4563\n",
      "Iteration: 96; Percent complete: 19.2%; Average loss: 0.4653\n",
      "Iteration: 97; Percent complete: 19.4%; Average loss: 0.4685\n",
      "Iteration: 98; Percent complete: 19.6%; Average loss: 0.4646\n",
      "Iteration: 99; Percent complete: 19.8%; Average loss: 0.4744\n",
      "Iteration: 100; Percent complete: 20.0%; Average loss: 0.4902\n",
      "Iteration: 101; Percent complete: 20.2%; Average loss: 0.4424\n",
      "Iteration: 102; Percent complete: 20.4%; Average loss: 0.4331\n",
      "Iteration: 103; Percent complete: 20.6%; Average loss: 0.4097\n",
      "Iteration: 104; Percent complete: 20.8%; Average loss: 0.4339\n",
      "Iteration: 105; Percent complete: 21.0%; Average loss: 0.4406\n",
      "Iteration: 106; Percent complete: 21.2%; Average loss: 0.4109\n",
      "Iteration: 107; Percent complete: 21.4%; Average loss: 0.3398\n",
      "Iteration: 108; Percent complete: 21.6%; Average loss: 0.4194\n",
      "Iteration: 109; Percent complete: 21.8%; Average loss: 0.4543\n",
      "Iteration: 110; Percent complete: 22.0%; Average loss: 0.4980\n",
      "Iteration: 111; Percent complete: 22.2%; Average loss: 0.3854\n",
      "Iteration: 112; Percent complete: 22.4%; Average loss: 0.3858\n",
      "Iteration: 113; Percent complete: 22.6%; Average loss: 0.3600\n",
      "Iteration: 114; Percent complete: 22.8%; Average loss: 0.3935\n",
      "Iteration: 115; Percent complete: 23.0%; Average loss: 0.3417\n",
      "Iteration: 116; Percent complete: 23.2%; Average loss: 0.3455\n",
      "Iteration: 117; Percent complete: 23.4%; Average loss: 0.4839\n",
      "Iteration: 118; Percent complete: 23.6%; Average loss: 0.4187\n",
      "Iteration: 119; Percent complete: 23.8%; Average loss: 0.3232\n",
      "Iteration: 120; Percent complete: 24.0%; Average loss: 0.3241\n",
      "Iteration: 121; Percent complete: 24.2%; Average loss: 0.4236\n",
      "Iteration: 122; Percent complete: 24.4%; Average loss: 0.4658\n",
      "Iteration: 123; Percent complete: 24.6%; Average loss: 0.4375\n",
      "Iteration: 124; Percent complete: 24.8%; Average loss: 0.3424\n",
      "Iteration: 125; Percent complete: 25.0%; Average loss: 0.4081\n",
      "Iteration: 126; Percent complete: 25.2%; Average loss: 0.3947\n",
      "Iteration: 127; Percent complete: 25.4%; Average loss: 0.4015\n",
      "Iteration: 128; Percent complete: 25.6%; Average loss: 0.3858\n",
      "Iteration: 129; Percent complete: 25.8%; Average loss: 0.4400\n",
      "Iteration: 130; Percent complete: 26.0%; Average loss: 0.4203\n",
      "Iteration: 131; Percent complete: 26.2%; Average loss: 0.5227\n",
      "Iteration: 132; Percent complete: 26.4%; Average loss: 0.3188\n",
      "Iteration: 133; Percent complete: 26.6%; Average loss: 0.2837\n",
      "Iteration: 134; Percent complete: 26.8%; Average loss: 0.3227\n",
      "Iteration: 135; Percent complete: 27.0%; Average loss: 0.3943\n",
      "Iteration: 136; Percent complete: 27.2%; Average loss: 0.4006\n",
      "Iteration: 137; Percent complete: 27.4%; Average loss: 0.4185\n",
      "Iteration: 138; Percent complete: 27.6%; Average loss: 0.3373\n",
      "Iteration: 139; Percent complete: 27.8%; Average loss: 0.3573\n",
      "Iteration: 140; Percent complete: 28.0%; Average loss: 0.2462\n",
      "Iteration: 141; Percent complete: 28.2%; Average loss: 0.3183\n",
      "Iteration: 142; Percent complete: 28.4%; Average loss: 0.2962\n",
      "Iteration: 143; Percent complete: 28.6%; Average loss: 0.2921\n",
      "Iteration: 144; Percent complete: 28.8%; Average loss: 0.3530\n",
      "Iteration: 145; Percent complete: 29.0%; Average loss: 0.2858\n",
      "Iteration: 146; Percent complete: 29.2%; Average loss: 0.2139\n",
      "Iteration: 147; Percent complete: 29.4%; Average loss: 0.4716\n",
      "Iteration: 148; Percent complete: 29.6%; Average loss: 0.2508\n",
      "Iteration: 149; Percent complete: 29.8%; Average loss: 0.2420\n",
      "Iteration: 150; Percent complete: 30.0%; Average loss: 0.3682\n",
      "Iteration: 151; Percent complete: 30.2%; Average loss: 0.2831\n",
      "Iteration: 152; Percent complete: 30.4%; Average loss: 0.3035\n",
      "Iteration: 153; Percent complete: 30.6%; Average loss: 0.3692\n",
      "Iteration: 154; Percent complete: 30.8%; Average loss: 0.4516\n",
      "Iteration: 155; Percent complete: 31.0%; Average loss: 0.3291\n",
      "Iteration: 156; Percent complete: 31.2%; Average loss: 0.3546\n",
      "Iteration: 157; Percent complete: 31.4%; Average loss: 0.3485\n",
      "Iteration: 158; Percent complete: 31.6%; Average loss: 0.4258\n",
      "Iteration: 159; Percent complete: 31.8%; Average loss: 0.3270\n",
      "Iteration: 160; Percent complete: 32.0%; Average loss: 0.3009\n",
      "Iteration: 161; Percent complete: 32.2%; Average loss: 0.2702\n",
      "Iteration: 162; Percent complete: 32.4%; Average loss: 0.3177\n",
      "Iteration: 163; Percent complete: 32.6%; Average loss: 0.3789\n",
      "Iteration: 164; Percent complete: 32.8%; Average loss: 0.2918\n",
      "Iteration: 165; Percent complete: 33.0%; Average loss: 0.3507\n",
      "Iteration: 166; Percent complete: 33.2%; Average loss: 0.2810\n",
      "Iteration: 167; Percent complete: 33.4%; Average loss: 0.3075\n",
      "Iteration: 168; Percent complete: 33.6%; Average loss: 0.3042\n",
      "Iteration: 169; Percent complete: 33.8%; Average loss: 0.3673\n",
      "Iteration: 170; Percent complete: 34.0%; Average loss: 0.3407\n",
      "Iteration: 171; Percent complete: 34.2%; Average loss: 0.2431\n",
      "Iteration: 172; Percent complete: 34.4%; Average loss: 0.2821\n",
      "Iteration: 173; Percent complete: 34.6%; Average loss: 0.4357\n",
      "Iteration: 174; Percent complete: 34.8%; Average loss: 0.2059\n",
      "Iteration: 175; Percent complete: 35.0%; Average loss: 0.2669\n",
      "Iteration: 176; Percent complete: 35.2%; Average loss: 0.3533\n",
      "Iteration: 177; Percent complete: 35.4%; Average loss: 0.2446\n",
      "Iteration: 178; Percent complete: 35.6%; Average loss: 0.3098\n",
      "Iteration: 179; Percent complete: 35.8%; Average loss: 0.2565\n",
      "Iteration: 180; Percent complete: 36.0%; Average loss: 0.2614\n",
      "Iteration: 181; Percent complete: 36.2%; Average loss: 0.2392\n",
      "Iteration: 182; Percent complete: 36.4%; Average loss: 0.3079\n",
      "Iteration: 183; Percent complete: 36.6%; Average loss: 0.3045\n",
      "Iteration: 184; Percent complete: 36.8%; Average loss: 0.3418\n",
      "Iteration: 185; Percent complete: 37.0%; Average loss: 0.4014\n",
      "Iteration: 186; Percent complete: 37.2%; Average loss: 0.3029\n",
      "Iteration: 187; Percent complete: 37.4%; Average loss: 0.2233\n",
      "Iteration: 188; Percent complete: 37.6%; Average loss: 0.2874\n",
      "Iteration: 189; Percent complete: 37.8%; Average loss: 0.3052\n",
      "Iteration: 190; Percent complete: 38.0%; Average loss: 0.2852\n",
      "Iteration: 191; Percent complete: 38.2%; Average loss: 0.3478\n",
      "Iteration: 192; Percent complete: 38.4%; Average loss: 0.2937\n",
      "Iteration: 193; Percent complete: 38.6%; Average loss: 0.2345\n",
      "Iteration: 194; Percent complete: 38.8%; Average loss: 0.2508\n",
      "Iteration: 195; Percent complete: 39.0%; Average loss: 0.2813\n",
      "Iteration: 196; Percent complete: 39.2%; Average loss: 0.2529\n",
      "Iteration: 197; Percent complete: 39.4%; Average loss: 0.1964\n",
      "Iteration: 198; Percent complete: 39.6%; Average loss: 0.2848\n",
      "Iteration: 199; Percent complete: 39.8%; Average loss: 0.2722\n",
      "Iteration: 200; Percent complete: 40.0%; Average loss: 0.2891\n",
      "Iteration: 201; Percent complete: 40.2%; Average loss: 0.1879\n",
      "Iteration: 202; Percent complete: 40.4%; Average loss: 0.2635\n",
      "Iteration: 203; Percent complete: 40.6%; Average loss: 0.2319\n",
      "Iteration: 204; Percent complete: 40.8%; Average loss: 0.2561\n",
      "Iteration: 205; Percent complete: 41.0%; Average loss: 0.2581\n",
      "Iteration: 206; Percent complete: 41.2%; Average loss: 0.3480\n",
      "Iteration: 207; Percent complete: 41.4%; Average loss: 0.3187\n",
      "Iteration: 208; Percent complete: 41.6%; Average loss: 0.3316\n",
      "Iteration: 209; Percent complete: 41.8%; Average loss: 0.2249\n",
      "Iteration: 210; Percent complete: 42.0%; Average loss: 0.2887\n",
      "Iteration: 211; Percent complete: 42.2%; Average loss: 0.2212\n",
      "Iteration: 212; Percent complete: 42.4%; Average loss: 0.2163\n",
      "Iteration: 213; Percent complete: 42.6%; Average loss: 0.2566\n",
      "Iteration: 214; Percent complete: 42.8%; Average loss: 0.2705\n",
      "Iteration: 215; Percent complete: 43.0%; Average loss: 0.3046\n",
      "Iteration: 216; Percent complete: 43.2%; Average loss: 0.2435\n",
      "Iteration: 217; Percent complete: 43.4%; Average loss: 0.2606\n",
      "Iteration: 218; Percent complete: 43.6%; Average loss: 0.3015\n",
      "Iteration: 219; Percent complete: 43.8%; Average loss: 0.1962\n",
      "Iteration: 220; Percent complete: 44.0%; Average loss: 0.2952\n",
      "Iteration: 221; Percent complete: 44.2%; Average loss: 0.2520\n",
      "Iteration: 222; Percent complete: 44.4%; Average loss: 0.2441\n",
      "Iteration: 223; Percent complete: 44.6%; Average loss: 0.2327\n",
      "Iteration: 224; Percent complete: 44.8%; Average loss: 0.1420\n",
      "Iteration: 225; Percent complete: 45.0%; Average loss: 0.2297\n",
      "Iteration: 226; Percent complete: 45.2%; Average loss: 0.2344\n",
      "Iteration: 227; Percent complete: 45.4%; Average loss: 0.2164\n",
      "Iteration: 228; Percent complete: 45.6%; Average loss: 0.1802\n",
      "Iteration: 229; Percent complete: 45.8%; Average loss: 0.3168\n",
      "Iteration: 230; Percent complete: 46.0%; Average loss: 0.1935\n",
      "Iteration: 231; Percent complete: 46.2%; Average loss: 0.2241\n",
      "Iteration: 232; Percent complete: 46.4%; Average loss: 0.1914\n",
      "Iteration: 233; Percent complete: 46.6%; Average loss: 0.2173\n",
      "Iteration: 234; Percent complete: 46.8%; Average loss: 0.2095\n",
      "Iteration: 235; Percent complete: 47.0%; Average loss: 0.2144\n",
      "Iteration: 236; Percent complete: 47.2%; Average loss: 0.2005\n",
      "Iteration: 237; Percent complete: 47.4%; Average loss: 0.2189\n",
      "Iteration: 238; Percent complete: 47.6%; Average loss: 0.2062\n",
      "Iteration: 239; Percent complete: 47.8%; Average loss: 0.2047\n",
      "Iteration: 240; Percent complete: 48.0%; Average loss: 0.2367\n",
      "Iteration: 241; Percent complete: 48.2%; Average loss: 0.2959\n",
      "Iteration: 242; Percent complete: 48.4%; Average loss: 0.2539\n",
      "Iteration: 243; Percent complete: 48.6%; Average loss: 0.1946\n",
      "Iteration: 244; Percent complete: 48.8%; Average loss: 0.2367\n",
      "Iteration: 245; Percent complete: 49.0%; Average loss: 0.2254\n",
      "Iteration: 246; Percent complete: 49.2%; Average loss: 0.2288\n",
      "Iteration: 247; Percent complete: 49.4%; Average loss: 0.1428\n",
      "Iteration: 248; Percent complete: 49.6%; Average loss: 0.2499\n",
      "Iteration: 249; Percent complete: 49.8%; Average loss: 0.2032\n",
      "Iteration: 250; Percent complete: 50.0%; Average loss: 0.1894\n",
      "Iteration: 251; Percent complete: 50.2%; Average loss: 0.2452\n",
      "Iteration: 252; Percent complete: 50.4%; Average loss: 0.1717\n",
      "Iteration: 253; Percent complete: 50.6%; Average loss: 0.1747\n",
      "Iteration: 254; Percent complete: 50.8%; Average loss: 0.1487\n",
      "Iteration: 255; Percent complete: 51.0%; Average loss: 0.2017\n",
      "Iteration: 256; Percent complete: 51.2%; Average loss: 0.2779\n",
      "Iteration: 257; Percent complete: 51.4%; Average loss: 0.2707\n",
      "Iteration: 258; Percent complete: 51.6%; Average loss: 0.2559\n",
      "Iteration: 259; Percent complete: 51.8%; Average loss: 0.2488\n",
      "Iteration: 260; Percent complete: 52.0%; Average loss: 0.2522\n",
      "Iteration: 261; Percent complete: 52.2%; Average loss: 0.2064\n",
      "Iteration: 262; Percent complete: 52.4%; Average loss: 0.1673\n",
      "Iteration: 263; Percent complete: 52.6%; Average loss: 0.1911\n",
      "Iteration: 264; Percent complete: 52.8%; Average loss: 0.2297\n",
      "Iteration: 265; Percent complete: 53.0%; Average loss: 0.2259\n",
      "Iteration: 266; Percent complete: 53.2%; Average loss: 0.1545\n",
      "Iteration: 267; Percent complete: 53.4%; Average loss: 0.2618\n",
      "Iteration: 268; Percent complete: 53.6%; Average loss: 0.1722\n",
      "Iteration: 269; Percent complete: 53.8%; Average loss: 0.1817\n",
      "Iteration: 270; Percent complete: 54.0%; Average loss: 0.1960\n",
      "Iteration: 271; Percent complete: 54.2%; Average loss: 0.1900\n",
      "Iteration: 272; Percent complete: 54.4%; Average loss: 0.1703\n",
      "Iteration: 273; Percent complete: 54.6%; Average loss: 0.1690\n",
      "Iteration: 274; Percent complete: 54.8%; Average loss: 0.1754\n",
      "Iteration: 275; Percent complete: 55.0%; Average loss: 0.1629\n",
      "Iteration: 276; Percent complete: 55.2%; Average loss: 0.1659\n",
      "Iteration: 277; Percent complete: 55.4%; Average loss: 0.1201\n",
      "Iteration: 278; Percent complete: 55.6%; Average loss: 0.1741\n",
      "Iteration: 279; Percent complete: 55.8%; Average loss: 0.1172\n",
      "Iteration: 280; Percent complete: 56.0%; Average loss: 0.1796\n",
      "Iteration: 281; Percent complete: 56.2%; Average loss: 0.2028\n",
      "Iteration: 282; Percent complete: 56.4%; Average loss: 0.2942\n",
      "Iteration: 283; Percent complete: 56.6%; Average loss: 0.1551\n",
      "Iteration: 284; Percent complete: 56.8%; Average loss: 0.1257\n",
      "Iteration: 285; Percent complete: 57.0%; Average loss: 0.1652\n",
      "Iteration: 286; Percent complete: 57.2%; Average loss: 0.1584\n",
      "Iteration: 287; Percent complete: 57.4%; Average loss: 0.2881\n",
      "Iteration: 288; Percent complete: 57.6%; Average loss: 0.1316\n",
      "Iteration: 289; Percent complete: 57.8%; Average loss: 0.1488\n",
      "Iteration: 290; Percent complete: 58.0%; Average loss: 0.1751\n",
      "Iteration: 291; Percent complete: 58.2%; Average loss: 0.1661\n",
      "Iteration: 292; Percent complete: 58.4%; Average loss: 0.1716\n",
      "Iteration: 293; Percent complete: 58.6%; Average loss: 0.1753\n",
      "Iteration: 294; Percent complete: 58.8%; Average loss: 0.2446\n",
      "Iteration: 295; Percent complete: 59.0%; Average loss: 0.1849\n",
      "Iteration: 296; Percent complete: 59.2%; Average loss: 0.1730\n",
      "Iteration: 297; Percent complete: 59.4%; Average loss: 0.1389\n",
      "Iteration: 298; Percent complete: 59.6%; Average loss: 0.1713\n",
      "Iteration: 299; Percent complete: 59.8%; Average loss: 0.1908\n",
      "Iteration: 300; Percent complete: 60.0%; Average loss: 0.2035\n",
      "Iteration: 301; Percent complete: 60.2%; Average loss: 0.1917\n",
      "Iteration: 302; Percent complete: 60.4%; Average loss: 0.1463\n",
      "Iteration: 303; Percent complete: 60.6%; Average loss: 0.2479\n",
      "Iteration: 304; Percent complete: 60.8%; Average loss: 0.1524\n",
      "Iteration: 305; Percent complete: 61.0%; Average loss: 0.1525\n",
      "Iteration: 306; Percent complete: 61.2%; Average loss: 0.2022\n",
      "Iteration: 307; Percent complete: 61.4%; Average loss: 0.1708\n",
      "Iteration: 308; Percent complete: 61.6%; Average loss: 0.1975\n",
      "Iteration: 309; Percent complete: 61.8%; Average loss: 0.1931\n",
      "Iteration: 310; Percent complete: 62.0%; Average loss: 0.1651\n",
      "Iteration: 311; Percent complete: 62.2%; Average loss: 0.1217\n",
      "Iteration: 312; Percent complete: 62.4%; Average loss: 0.1545\n",
      "Iteration: 313; Percent complete: 62.6%; Average loss: 0.1587\n",
      "Iteration: 314; Percent complete: 62.8%; Average loss: 0.1577\n",
      "Iteration: 315; Percent complete: 63.0%; Average loss: 0.1166\n",
      "Iteration: 316; Percent complete: 63.2%; Average loss: 0.1580\n",
      "Iteration: 317; Percent complete: 63.4%; Average loss: 0.1439\n",
      "Iteration: 318; Percent complete: 63.6%; Average loss: 0.1745\n",
      "Iteration: 319; Percent complete: 63.8%; Average loss: 0.1298\n",
      "Iteration: 320; Percent complete: 64.0%; Average loss: 0.1313\n",
      "Iteration: 321; Percent complete: 64.2%; Average loss: 0.2007\n",
      "Iteration: 322; Percent complete: 64.4%; Average loss: 0.1169\n",
      "Iteration: 323; Percent complete: 64.6%; Average loss: 0.1249\n",
      "Iteration: 324; Percent complete: 64.8%; Average loss: 0.1362\n",
      "Iteration: 325; Percent complete: 65.0%; Average loss: 0.1518\n",
      "Iteration: 326; Percent complete: 65.2%; Average loss: 0.1492\n",
      "Iteration: 327; Percent complete: 65.4%; Average loss: 0.1551\n",
      "Iteration: 328; Percent complete: 65.6%; Average loss: 0.1057\n",
      "Iteration: 329; Percent complete: 65.8%; Average loss: 0.1775\n",
      "Iteration: 330; Percent complete: 66.0%; Average loss: 0.1947\n",
      "Iteration: 331; Percent complete: 66.2%; Average loss: 0.1357\n",
      "Iteration: 332; Percent complete: 66.4%; Average loss: 0.1635\n",
      "Iteration: 333; Percent complete: 66.6%; Average loss: 0.1410\n",
      "Iteration: 334; Percent complete: 66.8%; Average loss: 0.2097\n",
      "Iteration: 335; Percent complete: 67.0%; Average loss: 0.1846\n",
      "Iteration: 336; Percent complete: 67.2%; Average loss: 0.1133\n",
      "Iteration: 337; Percent complete: 67.4%; Average loss: 0.1334\n",
      "Iteration: 338; Percent complete: 67.6%; Average loss: 0.1241\n",
      "Iteration: 339; Percent complete: 67.8%; Average loss: 0.1612\n",
      "Iteration: 340; Percent complete: 68.0%; Average loss: 0.1158\n",
      "Iteration: 341; Percent complete: 68.2%; Average loss: 0.1696\n",
      "Iteration: 342; Percent complete: 68.4%; Average loss: 0.1423\n",
      "Iteration: 343; Percent complete: 68.6%; Average loss: 0.1581\n",
      "Iteration: 344; Percent complete: 68.8%; Average loss: 0.1252\n",
      "Iteration: 345; Percent complete: 69.0%; Average loss: 0.1602\n",
      "Iteration: 346; Percent complete: 69.2%; Average loss: 0.1299\n",
      "Iteration: 347; Percent complete: 69.4%; Average loss: 0.1070\n",
      "Iteration: 348; Percent complete: 69.6%; Average loss: 0.1772\n",
      "Iteration: 349; Percent complete: 69.8%; Average loss: 0.1169\n",
      "Iteration: 350; Percent complete: 70.0%; Average loss: 0.1936\n",
      "Iteration: 351; Percent complete: 70.2%; Average loss: 0.1444\n",
      "Iteration: 352; Percent complete: 70.4%; Average loss: 0.1237\n",
      "Iteration: 353; Percent complete: 70.6%; Average loss: 0.1447\n",
      "Iteration: 354; Percent complete: 70.8%; Average loss: 0.1205\n",
      "Iteration: 355; Percent complete: 71.0%; Average loss: 0.1263\n",
      "Iteration: 356; Percent complete: 71.2%; Average loss: 0.1655\n",
      "Iteration: 357; Percent complete: 71.4%; Average loss: 0.1127\n",
      "Iteration: 358; Percent complete: 71.6%; Average loss: 0.1055\n",
      "Iteration: 359; Percent complete: 71.8%; Average loss: 0.1398\n",
      "Iteration: 360; Percent complete: 72.0%; Average loss: 0.1403\n",
      "Iteration: 361; Percent complete: 72.2%; Average loss: 0.1430\n",
      "Iteration: 362; Percent complete: 72.4%; Average loss: 0.1311\n",
      "Iteration: 363; Percent complete: 72.6%; Average loss: 0.1300\n",
      "Iteration: 364; Percent complete: 72.8%; Average loss: 0.1240\n",
      "Iteration: 365; Percent complete: 73.0%; Average loss: 0.1328\n",
      "Iteration: 366; Percent complete: 73.2%; Average loss: 0.1173\n",
      "Iteration: 367; Percent complete: 73.4%; Average loss: 0.1685\n",
      "Iteration: 368; Percent complete: 73.6%; Average loss: 0.0989\n",
      "Iteration: 369; Percent complete: 73.8%; Average loss: 0.1272\n",
      "Iteration: 370; Percent complete: 74.0%; Average loss: 0.1370\n",
      "Iteration: 371; Percent complete: 74.2%; Average loss: 0.1610\n",
      "Iteration: 372; Percent complete: 74.4%; Average loss: 0.1024\n",
      "Iteration: 373; Percent complete: 74.6%; Average loss: 0.0840\n",
      "Iteration: 374; Percent complete: 74.8%; Average loss: 0.1779\n",
      "Iteration: 375; Percent complete: 75.0%; Average loss: 0.1449\n",
      "Iteration: 376; Percent complete: 75.2%; Average loss: 0.1487\n",
      "Iteration: 377; Percent complete: 75.4%; Average loss: 0.1458\n",
      "Iteration: 378; Percent complete: 75.6%; Average loss: 0.1350\n",
      "Iteration: 379; Percent complete: 75.8%; Average loss: 0.1220\n",
      "Iteration: 380; Percent complete: 76.0%; Average loss: 0.1435\n",
      "Iteration: 381; Percent complete: 76.2%; Average loss: 0.1148\n",
      "Iteration: 382; Percent complete: 76.4%; Average loss: 0.0845\n",
      "Iteration: 383; Percent complete: 76.6%; Average loss: 0.1184\n",
      "Iteration: 384; Percent complete: 76.8%; Average loss: 0.1275\n",
      "Iteration: 385; Percent complete: 77.0%; Average loss: 0.1589\n",
      "Iteration: 386; Percent complete: 77.2%; Average loss: 0.1590\n",
      "Iteration: 387; Percent complete: 77.4%; Average loss: 0.1040\n",
      "Iteration: 388; Percent complete: 77.6%; Average loss: 0.0905\n",
      "Iteration: 389; Percent complete: 77.8%; Average loss: 0.1064\n",
      "Iteration: 390; Percent complete: 78.0%; Average loss: 0.1093\n",
      "Iteration: 391; Percent complete: 78.2%; Average loss: 0.1168\n",
      "Iteration: 392; Percent complete: 78.4%; Average loss: 0.0985\n",
      "Iteration: 393; Percent complete: 78.6%; Average loss: 0.1790\n",
      "Iteration: 394; Percent complete: 78.8%; Average loss: 0.1348\n",
      "Iteration: 395; Percent complete: 79.0%; Average loss: 0.1191\n",
      "Iteration: 396; Percent complete: 79.2%; Average loss: 0.0892\n",
      "Iteration: 397; Percent complete: 79.4%; Average loss: 0.1132\n",
      "Iteration: 398; Percent complete: 79.6%; Average loss: 0.1160\n",
      "Iteration: 399; Percent complete: 79.8%; Average loss: 0.1549\n",
      "Iteration: 400; Percent complete: 80.0%; Average loss: 0.1937\n",
      "Iteration: 401; Percent complete: 80.2%; Average loss: 0.1189\n",
      "Iteration: 402; Percent complete: 80.4%; Average loss: 0.1080\n",
      "Iteration: 403; Percent complete: 80.6%; Average loss: 0.1269\n",
      "Iteration: 404; Percent complete: 80.8%; Average loss: 0.1181\n",
      "Iteration: 405; Percent complete: 81.0%; Average loss: 0.1416\n",
      "Iteration: 406; Percent complete: 81.2%; Average loss: 0.1506\n",
      "Iteration: 407; Percent complete: 81.4%; Average loss: 0.0911\n",
      "Iteration: 408; Percent complete: 81.6%; Average loss: 0.1300\n",
      "Iteration: 409; Percent complete: 81.8%; Average loss: 0.1459\n",
      "Iteration: 410; Percent complete: 82.0%; Average loss: 0.1103\n",
      "Iteration: 411; Percent complete: 82.2%; Average loss: 0.0969\n",
      "Iteration: 412; Percent complete: 82.4%; Average loss: 0.0931\n",
      "Iteration: 413; Percent complete: 82.6%; Average loss: 0.1466\n",
      "Iteration: 414; Percent complete: 82.8%; Average loss: 0.0891\n",
      "Iteration: 415; Percent complete: 83.0%; Average loss: 0.1241\n",
      "Iteration: 416; Percent complete: 83.2%; Average loss: 0.1217\n",
      "Iteration: 417; Percent complete: 83.4%; Average loss: 0.1269\n",
      "Iteration: 418; Percent complete: 83.6%; Average loss: 0.1251\n",
      "Iteration: 419; Percent complete: 83.8%; Average loss: 0.1704\n",
      "Iteration: 420; Percent complete: 84.0%; Average loss: 0.1101\n",
      "Iteration: 421; Percent complete: 84.2%; Average loss: 0.1001\n",
      "Iteration: 422; Percent complete: 84.4%; Average loss: 0.0925\n",
      "Iteration: 423; Percent complete: 84.6%; Average loss: 0.1188\n",
      "Iteration: 424; Percent complete: 84.8%; Average loss: 0.0957\n",
      "Iteration: 425; Percent complete: 85.0%; Average loss: 0.0622\n",
      "Iteration: 426; Percent complete: 85.2%; Average loss: 0.1824\n",
      "Iteration: 427; Percent complete: 85.4%; Average loss: 0.0922\n",
      "Iteration: 428; Percent complete: 85.6%; Average loss: 0.1048\n",
      "Iteration: 429; Percent complete: 85.8%; Average loss: 0.0952\n",
      "Iteration: 430; Percent complete: 86.0%; Average loss: 0.1005\n",
      "Iteration: 431; Percent complete: 86.2%; Average loss: 0.1164\n",
      "Iteration: 432; Percent complete: 86.4%; Average loss: 0.1093\n",
      "Iteration: 433; Percent complete: 86.6%; Average loss: 0.0855\n",
      "Iteration: 434; Percent complete: 86.8%; Average loss: 0.0854\n",
      "Iteration: 435; Percent complete: 87.0%; Average loss: 0.0904\n",
      "Iteration: 436; Percent complete: 87.2%; Average loss: 0.0884\n",
      "Iteration: 437; Percent complete: 87.4%; Average loss: 0.1108\n",
      "Iteration: 438; Percent complete: 87.6%; Average loss: 0.1215\n",
      "Iteration: 439; Percent complete: 87.8%; Average loss: 0.1164\n",
      "Iteration: 440; Percent complete: 88.0%; Average loss: 0.1453\n",
      "Iteration: 441; Percent complete: 88.2%; Average loss: 0.1126\n",
      "Iteration: 442; Percent complete: 88.4%; Average loss: 0.1200\n",
      "Iteration: 443; Percent complete: 88.6%; Average loss: 0.1469\n",
      "Iteration: 444; Percent complete: 88.8%; Average loss: 0.0978\n",
      "Iteration: 445; Percent complete: 89.0%; Average loss: 0.1415\n",
      "Iteration: 446; Percent complete: 89.2%; Average loss: 0.1230\n",
      "Iteration: 447; Percent complete: 89.4%; Average loss: 0.1402\n",
      "Iteration: 448; Percent complete: 89.6%; Average loss: 0.1190\n",
      "Iteration: 449; Percent complete: 89.8%; Average loss: 0.1014\n",
      "Iteration: 450; Percent complete: 90.0%; Average loss: 0.0929\n",
      "Iteration: 451; Percent complete: 90.2%; Average loss: 0.1047\n",
      "Iteration: 452; Percent complete: 90.4%; Average loss: 0.1132\n",
      "Iteration: 453; Percent complete: 90.6%; Average loss: 0.0773\n",
      "Iteration: 454; Percent complete: 90.8%; Average loss: 0.1091\n",
      "Iteration: 455; Percent complete: 91.0%; Average loss: 0.0877\n",
      "Iteration: 456; Percent complete: 91.2%; Average loss: 0.0998\n",
      "Iteration: 457; Percent complete: 91.4%; Average loss: 0.1110\n",
      "Iteration: 458; Percent complete: 91.6%; Average loss: 0.1099\n",
      "Iteration: 459; Percent complete: 91.8%; Average loss: 0.0918\n",
      "Iteration: 460; Percent complete: 92.0%; Average loss: 0.1254\n",
      "Iteration: 461; Percent complete: 92.2%; Average loss: 0.1104\n",
      "Iteration: 462; Percent complete: 92.4%; Average loss: 0.0441\n",
      "Iteration: 463; Percent complete: 92.6%; Average loss: 0.1016\n",
      "Iteration: 464; Percent complete: 92.8%; Average loss: 0.1279\n",
      "Iteration: 465; Percent complete: 93.0%; Average loss: 0.1390\n",
      "Iteration: 466; Percent complete: 93.2%; Average loss: 0.1121\n",
      "Iteration: 467; Percent complete: 93.4%; Average loss: 0.0981\n",
      "Iteration: 468; Percent complete: 93.6%; Average loss: 0.0511\n",
      "Iteration: 469; Percent complete: 93.8%; Average loss: 0.0891\n",
      "Iteration: 470; Percent complete: 94.0%; Average loss: 0.0953\n",
      "Iteration: 471; Percent complete: 94.2%; Average loss: 0.0909\n",
      "Iteration: 472; Percent complete: 94.4%; Average loss: 0.1477\n",
      "Iteration: 473; Percent complete: 94.6%; Average loss: 0.0780\n",
      "Iteration: 474; Percent complete: 94.8%; Average loss: 0.1162\n",
      "Iteration: 475; Percent complete: 95.0%; Average loss: 0.1008\n",
      "Iteration: 476; Percent complete: 95.2%; Average loss: 0.0713\n",
      "Iteration: 477; Percent complete: 95.4%; Average loss: 0.0903\n",
      "Iteration: 478; Percent complete: 95.6%; Average loss: 0.0983\n",
      "Iteration: 479; Percent complete: 95.8%; Average loss: 0.1003\n",
      "Iteration: 480; Percent complete: 96.0%; Average loss: 0.1221\n",
      "Iteration: 481; Percent complete: 96.2%; Average loss: 0.0834\n",
      "Iteration: 482; Percent complete: 96.4%; Average loss: 0.1456\n",
      "Iteration: 483; Percent complete: 96.6%; Average loss: 0.0804\n",
      "Iteration: 484; Percent complete: 96.8%; Average loss: 0.0798\n",
      "Iteration: 485; Percent complete: 97.0%; Average loss: 0.2062\n",
      "Iteration: 486; Percent complete: 97.2%; Average loss: 0.1044\n",
      "Iteration: 487; Percent complete: 97.4%; Average loss: 0.1037\n",
      "Iteration: 488; Percent complete: 97.6%; Average loss: 0.0973\n",
      "Iteration: 489; Percent complete: 97.8%; Average loss: 0.0888\n",
      "Iteration: 490; Percent complete: 98.0%; Average loss: 0.0793\n",
      "Iteration: 491; Percent complete: 98.2%; Average loss: 0.1017\n",
      "Iteration: 492; Percent complete: 98.4%; Average loss: 0.1202\n",
      "Iteration: 493; Percent complete: 98.6%; Average loss: 0.1261\n",
      "Iteration: 494; Percent complete: 98.8%; Average loss: 0.0967\n",
      "Iteration: 495; Percent complete: 99.0%; Average loss: 0.0634\n",
      "Iteration: 496; Percent complete: 99.2%; Average loss: 0.1045\n",
      "Iteration: 497; Percent complete: 99.4%; Average loss: 0.1110\n",
      "Iteration: 498; Percent complete: 99.6%; Average loss: 0.0708\n",
      "Iteration: 499; Percent complete: 99.8%; Average loss: 0.1198\n",
      "Iteration: 500; Percent complete: 100.0%; Average loss: 0.0909\n"
     ]
    }
   ],
   "source": [
    "if TRAIN_THE_MODEL:\n",
    "    \n",
    "    # Configure training/optimization\n",
    "    clip = 50.0\n",
    "    teacher_forcing_ratio = 1.0\n",
    "    learning_rate = 0.0001\n",
    "    decoder_learning_ratio = 5.0\n",
    "    n_iteration = 500\n",
    "    print_every = 1\n",
    "    save_every = 500\n",
    "\n",
    "    # Ensure dropout layers are in train mode\n",
    "    encoder.train()\n",
    "    decoder.train()\n",
    "\n",
    "    # Initialize optimizers\n",
    "    print('Building optimizers ...')\n",
    "    encoder_optimizer = optim.Adam(encoder.parameters(), lr=learning_rate)\n",
    "    decoder_optimizer = optim.Adam(decoder.parameters(), lr=learning_rate * decoder_learning_ratio)\n",
    "    if loadFilename:\n",
    "        encoder_optimizer.load_state_dict(encoder_optimizer_sd)\n",
    "        decoder_optimizer.load_state_dict(decoder_optimizer_sd)\n",
    "\n",
    "    # If you have cuda, configure cuda to call\n",
    "    for state in encoder_optimizer.state.values():\n",
    "        for k, v in state.items():\n",
    "            if isinstance(v, torch.Tensor):\n",
    "                state[k] = v.cuda()\n",
    "    \n",
    "    for state in decoder_optimizer.state.values():\n",
    "        for k, v in state.items():\n",
    "            if isinstance(v, torch.Tensor):\n",
    "                state[k] = v.cuda()\n",
    "    \n",
    "    # Run training iterations\n",
    "    print(\"Starting Training!\")\n",
    "    trainIters(model_name, voc, pairs, encoder, decoder, encoder_optimizer, decoder_optimizer,\n",
    "               embedding, encoder_n_layers, decoder_n_layers, save_dir, n_iteration, batch_size,\n",
    "               print_every, save_every, clip, corpus_name, loadFilename)\n",
    "    \n",
    "    TRAIN_THE_MODEL = False\n",
    "\n",
    "else:\n",
    "    \n",
    "    print(f\"Make the variable 'TRAIN_THE_MODEL' in the code block above True and run the code block\")\n",
    "    print(f\"Value of 'TRAIN_THE_MODEL' currently: {TRAIN_THE_MODEL}\")\n"
   ]
  },
  {
   "cell_type": "markdown",
   "metadata": {
    "id": "RP75NOuVYEj2"
   },
   "source": [
    "Run the model :)"
   ]
  },
  {
   "cell_type": "code",
   "execution_count": 36,
   "metadata": {
    "colab": {
     "base_uri": "https://localhost:8080/"
    },
    "id": "ed3ImKbpYEj2",
    "outputId": "f251dcef-e308-4ed5-b39f-1877a17e9297"
   },
   "outputs": [
    {
     "name": "stdout",
     "output_type": "stream",
     "text": [
      "> Hello\n",
      "Bot: nope .\n",
      "> what is going on here\n",
      "Error: Encountered unknown word.\n",
      "> computer not working\n",
      "Bot: unfortunately no . only .\n",
      "> can you say something\n",
      "Error: Encountered unknown word.\n",
      "> are you a human\n",
      "Error: Encountered unknown word.\n",
      "> what can you say\n",
      "Bot: nope . .\n",
      "> what?\n",
      "Bot: . .\n",
      "> Will it work with MacBook\n",
      "Bot: yes and should work with xp\n",
      "> what type of computer do you got\n",
      "Error: Encountered unknown word.\n",
      "> what do you think about this game\n",
      "Bot: yes two player mode .\n",
      "> do you like online games\n",
      "Bot: nope and\n",
      "> how's the graphic card\n",
      "Error: Encountered unknown word.\n",
      "> how is the graphic card working\n",
      "Error: Encountered unknown word.\n",
      "> graphic card\n",
      "Error: Encountered unknown word.\n",
      "> how to install the game\n",
      "Bot: about game .\n",
      "> where is the power sorces?\n",
      "Error: Encountered unknown word.\n",
      ">  where is the power source\n",
      "Error: Encountered unknown word.\n",
      "> does it work on 3ds\n",
      "Bot: yes . player\n",
      "> do you like 3ds?\n",
      "Bot: no the ds\n",
      "> q\n"
     ]
    }
   ],
   "source": [
    "# Set dropout layers to eval mode\n",
    "encoder.eval()\n",
    "decoder.eval()\n",
    "\n",
    "# Initialize search module\n",
    "searcher = GreedySearchDecoder(encoder, decoder)\n",
    "\n",
    "# Begin chatting (uncomment and run the following line to begin)\n",
    "evaluateInput(encoder, decoder, searcher, voc)"
   ]
  },
  {
   "cell_type": "markdown",
   "metadata": {
    "id": "00ILN0NhYEj3"
   },
   "source": [
    "### Notes on the Model"
   ]
  },
  {
   "cell_type": "markdown",
   "metadata": {
    "id": "2fu40xLTYEj3"
   },
   "source": [
    "Overall, the model is OK. It was not as intelligent as i thought it would be, but I suppose that is a good thing. One of the things that I noticed from playing with the bot was that everything is pretty predictable. In fact, it feels less like it is responding to you and more like it has memories what to day based on an input string from the user. \n",
    "\n",
    "I think the first thing we can do to improve the model is to add some randomness to the model, so asking \"hello\" wont keep generating the same output. \n",
    "\n",
    "To improve this one a bit more we can change some of the variable like the learning rate and the depth. \n",
    "\n",
    "Eventually, to improve the overall feeling of the chat bot we can implement an entirely new model using BERT or GPT3 or other transformer models. \n",
    "\n",
    "Try to give a more meaningful number to words rather than what index they first appear in (ask professor if he thinks this would even matter, or would this just be a change of domain)."
   ]
  },
  {
   "cell_type": "markdown",
   "metadata": {
    "id": "3KUqO741YEj3"
   },
   "source": [
    "# Adding randomness to the Model"
   ]
  },
  {
   "cell_type": "code",
   "execution_count": 37,
   "metadata": {
    "id": "d4_bNAbIYEj3"
   },
   "outputs": [],
   "source": [
    "class StochasticSearchDecoder(nn.Module):\n",
    "    def __init__(self, encoder, decoder, k):\n",
    "        super(StochasticSearchDecoder, self).__init__()\n",
    "        self.encoder = encoder\n",
    "        self.decoder = decoder\n",
    "        self.k = k\n",
    "\n",
    "    def forward(self, input_seq, input_length, max_length):\n",
    "        # Forward input through encoder model\n",
    "        encoder_outputs, encoder_hidden = self.encoder(input_seq, input_length)\n",
    "        # Prepare encoder's final hidden layer to be first hidden input to the decoder\n",
    "        decoder_hidden = encoder_hidden[:decoder.n_layers]\n",
    "        # Initialize decoder input with SOS_token\n",
    "        decoder_input = torch.ones(1, 1, device=device, dtype=torch.long) * SOS_token\n",
    "        # Initialize tensors to append decoded words to\n",
    "        all_tokens = torch.zeros([0], device=device, dtype=torch.long)\n",
    "        all_scores = torch.zeros([0], device=device)\n",
    "        # Iteratively decode one word token at a time\n",
    "        for _ in range(max_length):\n",
    "            # Forward pass through decoder\n",
    "            decoder_output, decoder_hidden = self.decoder(decoder_input, decoder_hidden, encoder_outputs)\n",
    "            \n",
    "            # TODO : randomly select from the top k words\n",
    "            decoder_output_topk, ind = torch.topk(decoder_output, k=self.k, dim=1)\n",
    "            i = int(random.random()*self.k)\n",
    "            decoder_input = torch.tensor([ind[0,i]]).to(device)\n",
    "            decoder_scores = torch.tensor([decoder_output_topk[0,i]]).to(device)\n",
    "            \n",
    "            # Record token and score\n",
    "            all_tokens = torch.cat((all_tokens, decoder_input), dim=0)\n",
    "            all_scores = torch.cat((all_scores, decoder_scores), dim=0)\n",
    "            # Prepare current token to be next decoder input (add a dimension)\n",
    "            decoder_input = torch.unsqueeze(decoder_input, 0)\n",
    "        # Return collections of word tokens and scores\n",
    "        return all_tokens, all_scores"
   ]
  },
  {
   "cell_type": "code",
   "execution_count": 39,
   "metadata": {
    "colab": {
     "base_uri": "https://localhost:8080/",
     "height": 664
    },
    "id": "aJacOvBSYEj3",
    "outputId": "ab943a75-00d6-4bcc-ab26-22a1e21b3ba6"
   },
   "outputs": [
    {
     "name": "stdout",
     "output_type": "stream",
     "text": [
      "> are you a bot\n",
      "Error: Encountered unknown word.\n",
      "> how are you\n",
      "Bot: two two in black and no problems . . .\n",
      "> what is going on here\n",
      "Error: Encountered unknown word.\n",
      "> wtf\n",
      "Error: Encountered unknown word.\n"
     ]
    },
    {
     "ename": "KeyboardInterrupt",
     "evalue": "ignored",
     "output_type": "error",
     "traceback": [
      "\u001b[0;31m---------------------------------------------------------------------------\u001b[0m",
      "\u001b[0;31mKeyboardInterrupt\u001b[0m                         Traceback (most recent call last)",
      "\u001b[0;32m/usr/local/lib/python3.6/dist-packages/ipykernel/kernelbase.py\u001b[0m in \u001b[0;36m_input_request\u001b[0;34m(self, prompt, ident, parent, password)\u001b[0m\n\u001b[1;32m    728\u001b[0m             \u001b[0;32mtry\u001b[0m\u001b[0;34m:\u001b[0m\u001b[0;34m\u001b[0m\u001b[0;34m\u001b[0m\u001b[0m\n\u001b[0;32m--> 729\u001b[0;31m                 \u001b[0mident\u001b[0m\u001b[0;34m,\u001b[0m \u001b[0mreply\u001b[0m \u001b[0;34m=\u001b[0m \u001b[0mself\u001b[0m\u001b[0;34m.\u001b[0m\u001b[0msession\u001b[0m\u001b[0;34m.\u001b[0m\u001b[0mrecv\u001b[0m\u001b[0;34m(\u001b[0m\u001b[0mself\u001b[0m\u001b[0;34m.\u001b[0m\u001b[0mstdin_socket\u001b[0m\u001b[0;34m,\u001b[0m \u001b[0;36m0\u001b[0m\u001b[0;34m)\u001b[0m\u001b[0;34m\u001b[0m\u001b[0;34m\u001b[0m\u001b[0m\n\u001b[0m\u001b[1;32m    730\u001b[0m             \u001b[0;32mexcept\u001b[0m \u001b[0mException\u001b[0m\u001b[0;34m:\u001b[0m\u001b[0;34m\u001b[0m\u001b[0;34m\u001b[0m\u001b[0m\n",
      "\u001b[0;32m/usr/local/lib/python3.6/dist-packages/jupyter_client/session.py\u001b[0m in \u001b[0;36mrecv\u001b[0;34m(self, socket, mode, content, copy)\u001b[0m\n\u001b[1;32m    802\u001b[0m         \u001b[0;32mtry\u001b[0m\u001b[0;34m:\u001b[0m\u001b[0;34m\u001b[0m\u001b[0;34m\u001b[0m\u001b[0m\n\u001b[0;32m--> 803\u001b[0;31m             \u001b[0mmsg_list\u001b[0m \u001b[0;34m=\u001b[0m \u001b[0msocket\u001b[0m\u001b[0;34m.\u001b[0m\u001b[0mrecv_multipart\u001b[0m\u001b[0;34m(\u001b[0m\u001b[0mmode\u001b[0m\u001b[0;34m,\u001b[0m \u001b[0mcopy\u001b[0m\u001b[0;34m=\u001b[0m\u001b[0mcopy\u001b[0m\u001b[0;34m)\u001b[0m\u001b[0;34m\u001b[0m\u001b[0;34m\u001b[0m\u001b[0m\n\u001b[0m\u001b[1;32m    804\u001b[0m         \u001b[0;32mexcept\u001b[0m \u001b[0mzmq\u001b[0m\u001b[0;34m.\u001b[0m\u001b[0mZMQError\u001b[0m \u001b[0;32mas\u001b[0m \u001b[0me\u001b[0m\u001b[0;34m:\u001b[0m\u001b[0;34m\u001b[0m\u001b[0;34m\u001b[0m\u001b[0m\n",
      "\u001b[0;32m/usr/local/lib/python3.6/dist-packages/zmq/sugar/socket.py\u001b[0m in \u001b[0;36mrecv_multipart\u001b[0;34m(self, flags, copy, track)\u001b[0m\n\u001b[1;32m    582\u001b[0m         \"\"\"\n\u001b[0;32m--> 583\u001b[0;31m         \u001b[0mparts\u001b[0m \u001b[0;34m=\u001b[0m \u001b[0;34m[\u001b[0m\u001b[0mself\u001b[0m\u001b[0;34m.\u001b[0m\u001b[0mrecv\u001b[0m\u001b[0;34m(\u001b[0m\u001b[0mflags\u001b[0m\u001b[0;34m,\u001b[0m \u001b[0mcopy\u001b[0m\u001b[0;34m=\u001b[0m\u001b[0mcopy\u001b[0m\u001b[0;34m,\u001b[0m \u001b[0mtrack\u001b[0m\u001b[0;34m=\u001b[0m\u001b[0mtrack\u001b[0m\u001b[0;34m)\u001b[0m\u001b[0;34m]\u001b[0m\u001b[0;34m\u001b[0m\u001b[0;34m\u001b[0m\u001b[0m\n\u001b[0m\u001b[1;32m    584\u001b[0m         \u001b[0;31m# have first part already, only loop while more to receive\u001b[0m\u001b[0;34m\u001b[0m\u001b[0;34m\u001b[0m\u001b[0;34m\u001b[0m\u001b[0m\n",
      "\u001b[0;32mzmq/backend/cython/socket.pyx\u001b[0m in \u001b[0;36mzmq.backend.cython.socket.Socket.recv\u001b[0;34m()\u001b[0m\n",
      "\u001b[0;32mzmq/backend/cython/socket.pyx\u001b[0m in \u001b[0;36mzmq.backend.cython.socket.Socket.recv\u001b[0;34m()\u001b[0m\n",
      "\u001b[0;32mzmq/backend/cython/socket.pyx\u001b[0m in \u001b[0;36mzmq.backend.cython.socket._recv_copy\u001b[0;34m()\u001b[0m\n",
      "\u001b[0;32m/usr/local/lib/python3.6/dist-packages/zmq/backend/cython/checkrc.pxd\u001b[0m in \u001b[0;36mzmq.backend.cython.checkrc._check_rc\u001b[0;34m()\u001b[0m\n",
      "\u001b[0;31mKeyboardInterrupt\u001b[0m: ",
      "\nDuring handling of the above exception, another exception occurred:\n",
      "\u001b[0;31mKeyboardInterrupt\u001b[0m                         Traceback (most recent call last)",
      "\u001b[0;32m<ipython-input-39-7796ed0f6356>\u001b[0m in \u001b[0;36m<module>\u001b[0;34m()\u001b[0m\n\u001b[1;32m      7\u001b[0m \u001b[0;34m\u001b[0m\u001b[0m\n\u001b[1;32m      8\u001b[0m \u001b[0;31m# Begin chatting (uncomment and run the following line to begin)\u001b[0m\u001b[0;34m\u001b[0m\u001b[0;34m\u001b[0m\u001b[0;34m\u001b[0m\u001b[0m\n\u001b[0;32m----> 9\u001b[0;31m \u001b[0mevaluateInput\u001b[0m\u001b[0;34m(\u001b[0m\u001b[0mencoder\u001b[0m\u001b[0;34m,\u001b[0m \u001b[0mdecoder\u001b[0m\u001b[0;34m,\u001b[0m \u001b[0msearcher\u001b[0m\u001b[0;34m,\u001b[0m \u001b[0mvoc\u001b[0m\u001b[0;34m)\u001b[0m\u001b[0;34m\u001b[0m\u001b[0;34m\u001b[0m\u001b[0m\n\u001b[0m",
      "\u001b[0;32m<ipython-input-31-ae9ed20b1b0a>\u001b[0m in \u001b[0;36mevaluateInput\u001b[0;34m(encoder, decoder, searcher, voc)\u001b[0m\n\u001b[1;32m     22\u001b[0m         \u001b[0;32mtry\u001b[0m\u001b[0;34m:\u001b[0m\u001b[0;34m\u001b[0m\u001b[0;34m\u001b[0m\u001b[0m\n\u001b[1;32m     23\u001b[0m             \u001b[0;31m# Get input sentence\u001b[0m\u001b[0;34m\u001b[0m\u001b[0;34m\u001b[0m\u001b[0;34m\u001b[0m\u001b[0m\n\u001b[0;32m---> 24\u001b[0;31m             \u001b[0minput_sentence\u001b[0m \u001b[0;34m=\u001b[0m \u001b[0minput\u001b[0m\u001b[0;34m(\u001b[0m\u001b[0;34m'> '\u001b[0m\u001b[0;34m)\u001b[0m\u001b[0;34m\u001b[0m\u001b[0;34m\u001b[0m\u001b[0m\n\u001b[0m\u001b[1;32m     25\u001b[0m             \u001b[0;31m# Check if it is quit case\u001b[0m\u001b[0;34m\u001b[0m\u001b[0;34m\u001b[0m\u001b[0;34m\u001b[0m\u001b[0m\n\u001b[1;32m     26\u001b[0m             \u001b[0;32mif\u001b[0m \u001b[0minput_sentence\u001b[0m \u001b[0;34m==\u001b[0m \u001b[0;34m'q'\u001b[0m \u001b[0;32mor\u001b[0m \u001b[0minput_sentence\u001b[0m \u001b[0;34m==\u001b[0m \u001b[0;34m'quit'\u001b[0m\u001b[0;34m:\u001b[0m \u001b[0;32mbreak\u001b[0m\u001b[0;34m\u001b[0m\u001b[0;34m\u001b[0m\u001b[0m\n",
      "\u001b[0;32m/usr/local/lib/python3.6/dist-packages/ipykernel/kernelbase.py\u001b[0m in \u001b[0;36mraw_input\u001b[0;34m(self, prompt)\u001b[0m\n\u001b[1;32m    702\u001b[0m             \u001b[0mself\u001b[0m\u001b[0;34m.\u001b[0m\u001b[0m_parent_ident\u001b[0m\u001b[0;34m,\u001b[0m\u001b[0;34m\u001b[0m\u001b[0;34m\u001b[0m\u001b[0m\n\u001b[1;32m    703\u001b[0m             \u001b[0mself\u001b[0m\u001b[0;34m.\u001b[0m\u001b[0m_parent_header\u001b[0m\u001b[0;34m,\u001b[0m\u001b[0;34m\u001b[0m\u001b[0;34m\u001b[0m\u001b[0m\n\u001b[0;32m--> 704\u001b[0;31m             \u001b[0mpassword\u001b[0m\u001b[0;34m=\u001b[0m\u001b[0;32mFalse\u001b[0m\u001b[0;34m,\u001b[0m\u001b[0;34m\u001b[0m\u001b[0;34m\u001b[0m\u001b[0m\n\u001b[0m\u001b[1;32m    705\u001b[0m         )\n\u001b[1;32m    706\u001b[0m \u001b[0;34m\u001b[0m\u001b[0m\n",
      "\u001b[0;32m/usr/local/lib/python3.6/dist-packages/ipykernel/kernelbase.py\u001b[0m in \u001b[0;36m_input_request\u001b[0;34m(self, prompt, ident, parent, password)\u001b[0m\n\u001b[1;32m    732\u001b[0m             \u001b[0;32mexcept\u001b[0m \u001b[0mKeyboardInterrupt\u001b[0m\u001b[0;34m:\u001b[0m\u001b[0;34m\u001b[0m\u001b[0;34m\u001b[0m\u001b[0m\n\u001b[1;32m    733\u001b[0m                 \u001b[0;31m# re-raise KeyboardInterrupt, to truncate traceback\u001b[0m\u001b[0;34m\u001b[0m\u001b[0;34m\u001b[0m\u001b[0;34m\u001b[0m\u001b[0m\n\u001b[0;32m--> 734\u001b[0;31m                 \u001b[0;32mraise\u001b[0m \u001b[0mKeyboardInterrupt\u001b[0m\u001b[0;34m\u001b[0m\u001b[0;34m\u001b[0m\u001b[0m\n\u001b[0m\u001b[1;32m    735\u001b[0m             \u001b[0;32melse\u001b[0m\u001b[0;34m:\u001b[0m\u001b[0;34m\u001b[0m\u001b[0;34m\u001b[0m\u001b[0m\n\u001b[1;32m    736\u001b[0m                 \u001b[0;32mbreak\u001b[0m\u001b[0;34m\u001b[0m\u001b[0;34m\u001b[0m\u001b[0m\n",
      "\u001b[0;31mKeyboardInterrupt\u001b[0m: "
     ]
    }
   ],
   "source": [
    "# Set dropout layers to eval mode\n",
    "encoder.eval()\n",
    "decoder.eval()\n",
    "\n",
    "# Initialize search module\n",
    "searcher = StochasticSearchDecoder(encoder, decoder, 2)\n",
    "\n",
    "# Begin chatting (uncomment and run the following line to begin)\n",
    "evaluateInput(encoder, decoder, searcher, voc)"
   ]
  },
  {
   "cell_type": "markdown",
   "metadata": {
    "id": "jE6F4ldtYEj3"
   },
   "source": [
    "I like this model a whole lot more than the previous version, since it feels a lot more like a person speaking. I think there is more we can do to explore this stochastic model instead of the greedy model, for example, instead of randomly choosing the next word based off of the top k choices, only randomly choose the first word based of the top k choices then let the bot make up a new sentence based on that random first word. The reason this might be a better idea is because when the bot has a k value too large (even 5 is too large) it sort of rambles and makes weird sentences. I found that a k value of 2 worked best. "
   ]
  },
  {
   "cell_type": "code",
   "execution_count": null,
   "metadata": {
    "id": "_165AxxMYEj4"
   },
   "outputs": [],
   "source": []
  }
 ],
 "metadata": {
  "colab": {
   "collapsed_sections": [],
   "name": "New_dataset.ipynb",
   "provenance": [],
   "toc_visible": true
  },
  "kernelspec": {
   "display_name": "Python 3",
   "language": "python",
   "name": "python3"
  },
  "language_info": {
   "codemirror_mode": {
    "name": "ipython",
    "version": 3
   },
   "file_extension": ".py",
   "mimetype": "text/x-python",
   "name": "python",
   "nbconvert_exporter": "python",
   "pygments_lexer": "ipython3",
   "version": "3.8.5"
  }
 },
 "nbformat": 4,
 "nbformat_minor": 1
}
